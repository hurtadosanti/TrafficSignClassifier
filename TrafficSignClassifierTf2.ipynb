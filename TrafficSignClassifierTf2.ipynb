{
  "nbformat": 4,
  "nbformat_minor": 0,
  "metadata": {
    "accelerator": "GPU",
    "colab": {
      "name": "TrafficSignClassifier.ipynb",
      "provenance": [],
      "collapsed_sections": [],
      "include_colab_link": true
    },
    "kernelspec": {
      "display_name": "Python 3",
      "language": "python",
      "name": "python3"
    },
    "language_info": {
      "codemirror_mode": {
        "name": "ipython",
        "version": 3
      },
      "file_extension": ".py",
      "mimetype": "text/x-python",
      "name": "python",
      "nbconvert_exporter": "python",
      "pygments_lexer": "ipython3",
      "version": "3.8.5-final"
    }
  },
  "cells": [
    {
      "cell_type": "markdown",
      "metadata": {
        "id": "view-in-github",
        "colab_type": "text"
      },
      "source": [
        "<a href=\"https://colab.research.google.com/github/hurtadosanti/TrafficSignClassifier/blob/tensorflow2/TrafficSignClassifierTf2.ipynb\" target=\"_parent\"><img src=\"https://colab.research.google.com/assets/colab-badge.svg\" alt=\"Open In Colab\"/></a>"
      ]
    },
    {
      "cell_type": "markdown",
      "metadata": {
        "id": "XtP1EQlNiWoE",
        "pycharm": {
          "name": "#%% md\n"
        }
      },
      "source": [
        "# Traffic Sign Recognition Classifier\n",
        "Deep Learning\n",
        "\n",
        "[Problem Definition](https://github.com/udacity/CarND-Traffic-Sign-Classifier-Project/blob/master/Traffic_Sign_Classifier.ipynb)\n",
        "\n",
        "https://www.tensorflow.org/tutorials/keras/classification#evaluate_accuracy\n",
        "\n",
        "## Import packages"
      ]
    },
    {
      "cell_type": "code",
      "metadata": {
        "id": "8ir4q3lwxBeV",
        "tags": [],
        "outputId": "78a84964-1c9f-4828-a086-e0d12ca805a6",
        "colab": {
          "base_uri": "https://localhost:8080/",
          "height": 34
        }
      },
      "source": [
        "import numpy as np\n",
        "import pandas as pd\n",
        "import matplotlib.pyplot as plt\n",
        "from random import randint\n",
        "import pickle\n",
        "import os\n",
        "from zipfile import ZipFile\n",
        "from sklearn.utils import shuffle\n",
        "from PIL import Image\n",
        "import tensorflow as tf\n",
        "from tensorflow import keras\n",
        "from tensorflow.keras import datasets, layers, models\n",
        "print(tf.__version__)\n",
        "%matplotlib inline\n"
      ],
      "execution_count": 1,
      "outputs": [
        {
          "output_type": "stream",
          "text": [
            "2.3.0\n"
          ],
          "name": "stdout"
        }
      ]
    },
    {
      "cell_type": "markdown",
      "metadata": {
        "id": "jhuoAmosxBem",
        "pycharm": {
          "name": "#%% md\n"
        }
      },
      "source": [
        "## Load Data"
      ]
    },
    {
      "cell_type": "code",
      "metadata": {
        "id": "vN960anwxBen",
        "tags": [],
        "outputId": "c54165bb-2948-49cc-be96-9c526637850e",
        "colab": {
          "base_uri": "https://localhost:8080/",
          "height": 391
        }
      },
      "source": [
        "traffic_signs_file = 'traffic-signs-data.zip'\n",
        "!wget --no-check-certificate --progress=bar:force:noscroll \\\n",
        "    https://s3-us-west-1.amazonaws.com/udacity-selfdrivingcar/traffic-signs-data.zip \\\n",
        "    -O traffic-signs-data.zip\n",
        "\n",
        "!wget --no-check-certificate --progress=bar:force:noscroll \\\n",
        "    https://raw.githubusercontent.com/udacity/CarND-Traffic-Sign-Classifier-Project/master/signnames.csv -O signnames.csv\n"
      ],
      "execution_count": 2,
      "outputs": [
        {
          "output_type": "stream",
          "text": [
            "--2020-10-01 16:09:26--  https://s3-us-west-1.amazonaws.com/udacity-selfdrivingcar/traffic-signs-data.zip\n",
            "Resolving s3-us-west-1.amazonaws.com (s3-us-west-1.amazonaws.com)... 52.219.120.104\n",
            "Connecting to s3-us-west-1.amazonaws.com (s3-us-west-1.amazonaws.com)|52.219.120.104|:443... connected.\n",
            "HTTP request sent, awaiting response... 200 OK\n",
            "Length: 123524425 (118M) [application/zip]\n",
            "Saving to: ‘traffic-signs-data.zip’\n",
            "\n",
            "traffic-signs-data. 100%[===================>] 117.80M  88.9MB/s    in 1.3s    \n",
            "\n",
            "2020-10-01 16:09:27 (88.9 MB/s) - ‘traffic-signs-data.zip’ saved [123524425/123524425]\n",
            "\n",
            "--2020-10-01 16:09:27--  https://raw.githubusercontent.com/udacity/CarND-Traffic-Sign-Classifier-Project/master/signnames.csv\n",
            "Resolving raw.githubusercontent.com (raw.githubusercontent.com)... 151.101.0.133, 151.101.64.133, 151.101.128.133, ...\n",
            "Connecting to raw.githubusercontent.com (raw.githubusercontent.com)|151.101.0.133|:443... connected.\n",
            "HTTP request sent, awaiting response... 200 OK\n",
            "Length: 999 [text/plain]\n",
            "Saving to: ‘signnames.csv’\n",
            "\n",
            "signnames.csv       100%[===================>]     999  --.-KB/s    in 0s      \n",
            "\n",
            "2020-10-01 16:09:27 (75.5 MB/s) - ‘signnames.csv’ saved [999/999]\n",
            "\n"
          ],
          "name": "stdout"
        }
      ]
    },
    {
      "cell_type": "code",
      "metadata": {
        "tags": [],
        "id": "94SkJZCdcZLX",
        "outputId": "0855f428-2b35-4d0f-b773-c2f060750757",
        "colab": {
          "base_uri": "https://localhost:8080/",
          "height": 34
        }
      },
      "source": [
        "with ZipFile(traffic_signs_file, 'r') as zipObj:\n",
        "   zipObj.extractall()\n",
        "   print('Finish extracting')"
      ],
      "execution_count": 3,
      "outputs": [
        {
          "output_type": "stream",
          "text": [
            "Finish extracting\n"
          ],
          "name": "stdout"
        }
      ]
    },
    {
      "cell_type": "code",
      "metadata": {
        "id": "xbBfNmxSxBet",
        "tags": [],
        "outputId": "02307030-0b9a-4018-ffb5-7aaa727cb0fb",
        "colab": {
          "base_uri": "https://localhost:8080/",
          "height": 34
        }
      },
      "source": [
        "train = pickle.load(open(\"train.p\", 'rb'))\n",
        "valid=pickle.load(open(\"valid.p\", 'rb'))\n",
        "test = pickle.load(open(\"test.p\", 'rb'))\n",
        "X_train, y_train = train['features'], train['labels']\n",
        "X_valid, y_valid = valid['features'], valid['labels']\n",
        "X_test, y_test = test['features'], test['labels']\n",
        "# Verify that the data is complete\n",
        "assert(len(X_train)==len(y_train))\n",
        "assert(len(X_valid)==len(y_valid))\n",
        "assert(len(X_test)==len(y_test))\n",
        "\n",
        "assert(len(X_train)>0)\n",
        "assert(len(X_valid)>0)\n",
        "assert(len(X_test)>0)\n",
        "print('Data is correct')"
      ],
      "execution_count": 4,
      "outputs": [
        {
          "output_type": "stream",
          "text": [
            "Data is correct\n"
          ],
          "name": "stdout"
        }
      ]
    },
    {
      "cell_type": "markdown",
      "metadata": {
        "id": "Hp88q-cziWoy",
        "pycharm": {
          "name": "#%% md\n"
        }
      },
      "source": [
        "## Data preprocessing"
      ]
    },
    {
      "cell_type": "code",
      "metadata": {
        "id": "14r7so-qZvTE",
        "pycharm": {
          "name": "#%%\n"
        },
        "outputId": "dbd6fd26-1e2d-4f3e-99d6-92f76c869932",
        "colab": {
          "base_uri": "https://localhost:8080/",
          "height": 34
        }
      },
      "source": [
        "X_train_normalized = X_train/255.0\n",
        "X_test_normalized = X_test/255.0\n",
        "X_valid_normalized = X_valid/255.0\n",
        "\n",
        "X_train_gray = np.sum(X_train_normalized/3,axis=3,keepdims=True)\n",
        "X_test_gray = np.sum(X_test_normalized/3,axis=3,keepdims=True)\n",
        "X_valid_gray = np.sum(X_valid_normalized/3,axis=3,keepdims=True)\n",
        "\n",
        "image_shape = X_train_gray[0].shape\n",
        "print(image_shape)"
      ],
      "execution_count": 29,
      "outputs": [
        {
          "output_type": "stream",
          "text": [
            "(32, 32, 1)\n"
          ],
          "name": "stdout"
        }
      ]
    },
    {
      "cell_type": "markdown",
      "metadata": {
        "id": "JwyhaMmBaxIM",
        "pycharm": {
          "name": "#%% md\n"
        }
      },
      "source": [
        "## Training\n",
        "### Network Architecture"
      ]
    },
    {
      "cell_type": "markdown",
      "metadata": {
        "id": "EQrHt-1eiWpK",
        "pycharm": {
          "name": "#%% md\n"
        }
      },
      "source": [
        "### Prepare the model"
      ]
    },
    {
      "cell_type": "code",
      "metadata": {
        "id": "mEcF9ksEcZL1"
      },
      "source": [
        "model = models.Sequential()\n",
        "model.add(layers.Conv2D(32, (3, 3), activation='relu', input_shape=image_shape))\n",
        "model.add(layers.MaxPooling2D((2, 2)))\n",
        "model.add(layers.Conv2D(64, (3, 3), activation='relu'))\n",
        "model.add(layers.MaxPooling2D((2, 2)))\n",
        "model.add(layers.Dropout(0.25))\n",
        "model.add(layers.Conv2D(128, (3, 3), activation='relu'))\n",
        "model.add(layers.Flatten())\n",
        "model.add(layers.Dense(64, activation='relu'))\n",
        "model.add(layers.Dropout(0.25))\n",
        "model.add(layers.Dense(43,activation='sigmoid'))\n"
      ],
      "execution_count": 25,
      "outputs": []
    },
    {
      "cell_type": "markdown",
      "metadata": {
        "id": "pX8vOYy-bI_l",
        "pycharm": {
          "name": "#%% md\n"
        }
      },
      "source": [
        "### Execute the training\n",
        "We stop when accuracy is over 0.95"
      ]
    },
    {
      "cell_type": "code",
      "metadata": {
        "tags": [],
        "id": "PX1tzPLZcZL4",
        "outputId": "dc495f07-e29a-40c6-b172-9ee79e31cfab",
        "colab": {
          "base_uri": "https://localhost:8080/",
          "height": 493
        }
      },
      "source": [
        "model.summary()"
      ],
      "execution_count": 26,
      "outputs": [
        {
          "output_type": "stream",
          "text": [
            "Model: \"sequential_2\"\n",
            "_________________________________________________________________\n",
            "Layer (type)                 Output Shape              Param #   \n",
            "=================================================================\n",
            "conv2d_6 (Conv2D)            (None, 30, 30, 32)        320       \n",
            "_________________________________________________________________\n",
            "max_pooling2d_4 (MaxPooling2 (None, 15, 15, 32)        0         \n",
            "_________________________________________________________________\n",
            "conv2d_7 (Conv2D)            (None, 13, 13, 64)        18496     \n",
            "_________________________________________________________________\n",
            "max_pooling2d_5 (MaxPooling2 (None, 6, 6, 64)          0         \n",
            "_________________________________________________________________\n",
            "dropout_4 (Dropout)          (None, 6, 6, 64)          0         \n",
            "_________________________________________________________________\n",
            "conv2d_8 (Conv2D)            (None, 4, 4, 128)         73856     \n",
            "_________________________________________________________________\n",
            "flatten_2 (Flatten)          (None, 2048)              0         \n",
            "_________________________________________________________________\n",
            "dense_4 (Dense)              (None, 64)                131136    \n",
            "_________________________________________________________________\n",
            "dropout_5 (Dropout)          (None, 64)                0         \n",
            "_________________________________________________________________\n",
            "dense_5 (Dense)              (None, 43)                2795      \n",
            "=================================================================\n",
            "Total params: 226,603\n",
            "Trainable params: 226,603\n",
            "Non-trainable params: 0\n",
            "_________________________________________________________________\n"
          ],
          "name": "stdout"
        }
      ]
    },
    {
      "cell_type": "code",
      "metadata": {
        "tags": [],
        "id": "nRN18ThWcZL6",
        "outputId": "b7f1f9b9-849a-43e9-d54e-250ca8154c3b",
        "colab": {
          "base_uri": "https://localhost:8080/",
          "height": 697
        }
      },
      "source": [
        "model.compile(optimizer='adam',\n",
        "              loss=tf.keras.losses.SparseCategoricalCrossentropy(from_logits=True),\n",
        "              metrics=['accuracy'])\n",
        "\n",
        "history = model.fit(X_train_gray_norm, y_train, epochs=20,batch_size=128, shuffle=True,\n",
        "                    validation_data=(X_valid_gray_norm, y_valid))\n"
      ],
      "execution_count": 30,
      "outputs": [
        {
          "output_type": "stream",
          "text": [
            "Epoch 1/20\n",
            "272/272 [==============================] - 1s 5ms/step - loss: 2.8597 - accuracy: 0.9024 - val_loss: 2.8792 - val_accuracy: 0.9136\n",
            "Epoch 2/20\n",
            "272/272 [==============================] - 1s 4ms/step - loss: 2.8586 - accuracy: 0.9018 - val_loss: 2.8797 - val_accuracy: 0.8848\n",
            "Epoch 3/20\n",
            "272/272 [==============================] - 1s 4ms/step - loss: 2.8569 - accuracy: 0.9060 - val_loss: 2.8806 - val_accuracy: 0.9002\n",
            "Epoch 4/20\n",
            "272/272 [==============================] - 1s 4ms/step - loss: 2.8559 - accuracy: 0.9088 - val_loss: 2.8829 - val_accuracy: 0.9020\n",
            "Epoch 5/20\n",
            "272/272 [==============================] - 1s 4ms/step - loss: 2.8540 - accuracy: 0.9134 - val_loss: 2.8769 - val_accuracy: 0.9063\n",
            "Epoch 6/20\n",
            "272/272 [==============================] - 1s 4ms/step - loss: 2.8543 - accuracy: 0.9129 - val_loss: 2.8795 - val_accuracy: 0.9063\n",
            "Epoch 7/20\n",
            "272/272 [==============================] - 1s 4ms/step - loss: 2.8532 - accuracy: 0.9134 - val_loss: 2.8805 - val_accuracy: 0.9032\n",
            "Epoch 8/20\n",
            "272/272 [==============================] - 1s 4ms/step - loss: 2.8521 - accuracy: 0.9163 - val_loss: 2.8786 - val_accuracy: 0.8968\n",
            "Epoch 9/20\n",
            "272/272 [==============================] - 1s 4ms/step - loss: 2.8516 - accuracy: 0.9169 - val_loss: 2.8734 - val_accuracy: 0.9122\n",
            "Epoch 10/20\n",
            "272/272 [==============================] - 1s 4ms/step - loss: 2.8505 - accuracy: 0.9182 - val_loss: 2.8805 - val_accuracy: 0.9125\n",
            "Epoch 11/20\n",
            "272/272 [==============================] - 1s 4ms/step - loss: 2.8496 - accuracy: 0.9209 - val_loss: 2.8807 - val_accuracy: 0.9052\n",
            "Epoch 12/20\n",
            "272/272 [==============================] - 1s 4ms/step - loss: 2.8488 - accuracy: 0.9237 - val_loss: 2.8763 - val_accuracy: 0.9091\n",
            "Epoch 13/20\n",
            "272/272 [==============================] - 1s 4ms/step - loss: 2.8491 - accuracy: 0.9211 - val_loss: 2.8737 - val_accuracy: 0.9184\n",
            "Epoch 14/20\n",
            "272/272 [==============================] - 1s 4ms/step - loss: 2.8486 - accuracy: 0.9215 - val_loss: 2.8759 - val_accuracy: 0.9177\n",
            "Epoch 15/20\n",
            "272/272 [==============================] - 1s 4ms/step - loss: 2.8479 - accuracy: 0.9242 - val_loss: 2.8738 - val_accuracy: 0.9154\n",
            "Epoch 16/20\n",
            "272/272 [==============================] - 1s 4ms/step - loss: 2.8481 - accuracy: 0.9243 - val_loss: 2.8745 - val_accuracy: 0.9195\n",
            "Epoch 17/20\n",
            "272/272 [==============================] - 1s 4ms/step - loss: 2.8472 - accuracy: 0.9253 - val_loss: 2.8716 - val_accuracy: 0.9143\n",
            "Epoch 18/20\n",
            "272/272 [==============================] - 1s 4ms/step - loss: 2.8474 - accuracy: 0.9252 - val_loss: 2.8727 - val_accuracy: 0.9186\n",
            "Epoch 19/20\n",
            "272/272 [==============================] - 1s 4ms/step - loss: 2.8459 - accuracy: 0.9286 - val_loss: 2.8611 - val_accuracy: 0.9259\n",
            "Epoch 20/20\n",
            "272/272 [==============================] - 1s 4ms/step - loss: 2.8424 - accuracy: 0.9310 - val_loss: 2.8589 - val_accuracy: 0.9274\n"
          ],
          "name": "stdout"
        }
      ]
    },
    {
      "cell_type": "markdown",
      "metadata": {
        "id": "EuBfciLciWpR",
        "pycharm": {
          "name": "#%% md\n"
        }
      },
      "source": [
        "## Test the model"
      ]
    },
    {
      "cell_type": "code",
      "metadata": {
        "id": "wU9eZbjfdoFr",
        "outputId": "e55b2b92-bae7-42dd-8b18-04e0a92ea336",
        "colab": {
          "base_uri": "https://localhost:8080/",
          "height": 68
        }
      },
      "source": [
        "test_loss, test_acc = model.evaluate(X_test_gray_norm,  y_test)\n",
        "\n",
        "print('\\nTest accuracy:', test_acc)"
      ],
      "execution_count": 31,
      "outputs": [
        {
          "output_type": "stream",
          "text": [
            "395/395 [==============================] - 1s 2ms/step - loss: 2.8738 - accuracy: 0.9123\n",
            "\n",
            "Test accuracy: 0.9122723937034607\n"
          ],
          "name": "stdout"
        }
      ]
    },
    {
      "cell_type": "code",
      "metadata": {
        "id": "xTtZhZ06ecCr"
      },
      "source": [
        ""
      ],
      "execution_count": null,
      "outputs": []
    }
  ]
}