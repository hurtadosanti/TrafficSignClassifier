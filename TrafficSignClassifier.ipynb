{
  "nbformat": 4,
  "nbformat_minor": 0,
  "metadata": {
    "kernelspec": {
      "display_name": "Python 3",
      "language": "python",
      "name": "python3"
    },
    "language_info": {
      "codemirror_mode": {
        "name": "ipython",
        "version": 3
      },
      "file_extension": ".py",
      "mimetype": "text/x-python",
      "name": "python",
      "nbconvert_exporter": "python",
      "pygments_lexer": "ipython3",
      "version": "3.6.3"
    },
    "colab": {
      "name": "TrafficSignClassifier.ipynb",
      "provenance": [],
      "toc_visible": true
    }
  },
  "cells": [
    {
      "cell_type": "code",
      "metadata": {
        "tags": [],
        "id": "8ir4q3lwxBeV",
        "colab_type": "code",
        "colab": {
          "base_uri": "https://localhost:8080/",
          "height": 34
        },
        "outputId": "bdef3bf7-96c4-4765-f0f8-52f324a754c5"
      },
      "source": [
        "import numpy as np\n",
        "import pandas as pd\n",
        "import matplotlib.pyplot as plt\n",
        "from random import randint\n",
        "import pickle\n",
        "import os\n",
        "from zipfile import ZipFile\n",
        "%matplotlib inline\n",
        "%tensorflow_version 1.x"
      ],
      "execution_count": 1,
      "outputs": [
        {
          "output_type": "stream",
          "text": [
            "TensorFlow 1.x selected.\n"
          ],
          "name": "stdout"
        }
      ]
    },
    {
      "cell_type": "code",
      "metadata": {
        "pycharm": {
          "name": "#%%\n"
        },
        "id": "6Wgk8C1fxBee",
        "colab_type": "code",
        "colab": {}
      },
      "source": [
        "path = '/tmp/'\n",
        "traffic_signs_file = 'traffic-signs-data.zip'"
      ],
      "execution_count": 2,
      "outputs": []
    },
    {
      "cell_type": "markdown",
      "metadata": {
        "pycharm": {
          "name": "#%% md\n"
        },
        "id": "jhuoAmosxBem",
        "colab_type": "text"
      },
      "source": [
        "## Load Data"
      ]
    },
    {
      "cell_type": "code",
      "metadata": {
        "tags": [],
        "id": "vN960anwxBen",
        "colab_type": "code",
        "colab": {
          "base_uri": "https://localhost:8080/",
          "height": 225
        },
        "outputId": "5444712e-4911-47d5-ead8-8791abf7603b"
      },
      "source": [
        "!wget --no-check-certificate \\\n",
        "    https://s3-us-west-1.amazonaws.com/udacity-selfdrivingcar/traffic-signs-data.zip \\\n",
        "    -O /tmp/traffic-signs-data.zip\n",
        "\n",
        "with ZipFile(path+traffic_signs_file, 'r') as zipObj:\n",
        "   zipObj.extractall(path)\n",
        "   print('Finish extracting')"
      ],
      "execution_count": 4,
      "outputs": [
        {
          "output_type": "stream",
          "text": [
            "--2020-09-22 12:26:01--  https://s3-us-west-1.amazonaws.com/udacity-selfdrivingcar/traffic-signs-data.zip\n",
            "Resolving s3-us-west-1.amazonaws.com (s3-us-west-1.amazonaws.com)... 52.219.120.8\n",
            "Connecting to s3-us-west-1.amazonaws.com (s3-us-west-1.amazonaws.com)|52.219.120.8|:443... connected.\n",
            "HTTP request sent, awaiting response... 200 OK\n",
            "Length: 123524425 (118M) [application/zip]\n",
            "Saving to: ‘/tmp/traffic-signs-data.zip’\n",
            "\n",
            "/tmp/traffic-signs- 100%[===================>] 117.80M  20.4MB/s    in 6.7s    \n",
            "\n",
            "2020-09-22 12:26:08 (17.6 MB/s) - ‘/tmp/traffic-signs-data.zip’ saved [123524425/123524425]\n",
            "\n",
            "Finish extracting\n"
          ],
          "name": "stdout"
        }
      ]
    },
    {
      "cell_type": "code",
      "metadata": {
        "tags": [],
        "id": "xbBfNmxSxBet",
        "colab_type": "code",
        "colab": {}
      },
      "source": [
        "train = pickle.load(open(path+\"train.p\", 'rb'))\n",
        "valid=pickle.load(open(path+\"valid.p\", 'rb'))\n",
        "test = pickle.load(open(path+\"test.p\", 'rb'))"
      ],
      "execution_count": 5,
      "outputs": []
    },
    {
      "cell_type": "code",
      "metadata": {
        "id": "Oa2cL87ExBey",
        "colab_type": "code",
        "colab": {}
      },
      "source": [
        "X_train, y_train = train['features'], train['labels']\n",
        "X_valid, y_valid = valid['features'], valid['labels']\n",
        "X_test, y_test = test['features'], test['labels']"
      ],
      "execution_count": 6,
      "outputs": []
    },
    {
      "cell_type": "markdown",
      "metadata": {
        "pycharm": {
          "name": "#%% md\n"
        },
        "id": "mZLmJRh5xBe4",
        "colab_type": "text"
      },
      "source": [
        "## Data description"
      ]
    },
    {
      "cell_type": "code",
      "metadata": {
        "pycharm": {
          "name": "#%%\n"
        },
        "id": "Ft-VermxxBe5",
        "colab_type": "code",
        "colab": {
          "base_uri": "https://localhost:8080/",
          "height": 69
        },
        "outputId": "4c9d745b-5355-4dc3-d41f-90a6bbf50cfc"
      },
      "source": [
        "# Verify that the data is complete\n",
        "assert(len(X_train)==len(y_train))\n",
        "assert(len(X_valid)==len(y_valid))\n",
        "assert(len(X_test)==len(y_test))\n",
        "# Data Size\n",
        "print('Training set samples',len(X_train))\n",
        "print('Validation set samples',len(X_valid))\n",
        "print('Test set samples',len(X_test))"
      ],
      "execution_count": 7,
      "outputs": [
        {
          "output_type": "stream",
          "text": [
            "Training set samples 34799\n",
            "Validation set samples 4410\n",
            "Test set samples 12630\n"
          ],
          "name": "stdout"
        }
      ]
    },
    {
      "cell_type": "code",
      "metadata": {
        "id": "xsliJlzTxBe-",
        "colab_type": "code",
        "colab": {
          "base_uri": "https://localhost:8080/",
          "height": 300
        },
        "outputId": "207e3a5b-3665-47b8-cfcd-b175dba34559"
      },
      "source": [
        "# Sign names labels\n",
        "sign_names = pd.read_csv('signnames.csv')\n",
        "sign_names.head()\n",
        "sign_names.describe()"
      ],
      "execution_count": 8,
      "outputs": [
        {
          "output_type": "execute_result",
          "data": {
            "text/html": [
              "<div>\n",
              "<style scoped>\n",
              "    .dataframe tbody tr th:only-of-type {\n",
              "        vertical-align: middle;\n",
              "    }\n",
              "\n",
              "    .dataframe tbody tr th {\n",
              "        vertical-align: top;\n",
              "    }\n",
              "\n",
              "    .dataframe thead th {\n",
              "        text-align: right;\n",
              "    }\n",
              "</style>\n",
              "<table border=\"1\" class=\"dataframe\">\n",
              "  <thead>\n",
              "    <tr style=\"text-align: right;\">\n",
              "      <th></th>\n",
              "      <th>ClassId</th>\n",
              "    </tr>\n",
              "  </thead>\n",
              "  <tbody>\n",
              "    <tr>\n",
              "      <th>count</th>\n",
              "      <td>43.000000</td>\n",
              "    </tr>\n",
              "    <tr>\n",
              "      <th>mean</th>\n",
              "      <td>21.000000</td>\n",
              "    </tr>\n",
              "    <tr>\n",
              "      <th>std</th>\n",
              "      <td>12.556539</td>\n",
              "    </tr>\n",
              "    <tr>\n",
              "      <th>min</th>\n",
              "      <td>0.000000</td>\n",
              "    </tr>\n",
              "    <tr>\n",
              "      <th>25%</th>\n",
              "      <td>10.500000</td>\n",
              "    </tr>\n",
              "    <tr>\n",
              "      <th>50%</th>\n",
              "      <td>21.000000</td>\n",
              "    </tr>\n",
              "    <tr>\n",
              "      <th>75%</th>\n",
              "      <td>31.500000</td>\n",
              "    </tr>\n",
              "    <tr>\n",
              "      <th>max</th>\n",
              "      <td>42.000000</td>\n",
              "    </tr>\n",
              "  </tbody>\n",
              "</table>\n",
              "</div>"
            ],
            "text/plain": [
              "         ClassId\n",
              "count  43.000000\n",
              "mean   21.000000\n",
              "std    12.556539\n",
              "min     0.000000\n",
              "25%    10.500000\n",
              "50%    21.000000\n",
              "75%    31.500000\n",
              "max    42.000000"
            ]
          },
          "metadata": {
            "tags": []
          },
          "execution_count": 8
        }
      ]
    },
    {
      "cell_type": "markdown",
      "metadata": {
        "pycharm": {
          "name": "#%% md\n"
        },
        "id": "FmoOGgCnxBfB",
        "colab_type": "text"
      },
      "source": [
        "## Data distribution"
      ]
    },
    {
      "cell_type": "code",
      "metadata": {
        "pycharm": {
          "name": "#%%\n"
        },
        "id": "ZmmDX71kxBfC",
        "colab_type": "code",
        "colab": {
          "base_uri": "https://localhost:8080/",
          "height": 439
        },
        "outputId": "5017047b-1f34-4130-a3a5-2fc452fc1f67"
      },
      "source": [
        "# Describe test Y data\n",
        "df_y_test = pd.DataFrame(y_test)\n",
        "print(df_y_test.describe())\n",
        "df_y_test.plot.hist()"
      ],
      "execution_count": 9,
      "outputs": [
        {
          "output_type": "stream",
          "text": [
            "                  0\n",
            "count  12630.000000\n",
            "mean      15.551069\n",
            "std       11.947123\n",
            "min        0.000000\n",
            "25%        5.000000\n",
            "50%       12.000000\n",
            "75%       25.000000\n",
            "max       42.000000\n"
          ],
          "name": "stdout"
        },
        {
          "output_type": "execute_result",
          "data": {
            "text/plain": [
              "<matplotlib.axes._subplots.AxesSubplot at 0x7f2359f36668>"
            ]
          },
          "metadata": {
            "tags": []
          },
          "execution_count": 9
        },
        {
          "output_type": "display_data",
          "data": {
            "image/png": "[encoded data removed]",
            "text/plain": [
              "<Figure size 432x288 with 1 Axes>"
            ]
          },
          "metadata": {
            "tags": [],
            "needs_background": "light"
          }
        }
      ]
    },
    {
      "cell_type": "markdown",
      "metadata": {
        "pycharm": {
          "name": "#%% md\n"
        },
        "id": "1zpbv_08xBfH",
        "colab_type": "text"
      },
      "source": [
        "## Data Random Samples"
      ]
    },
    {
      "cell_type": "code",
      "metadata": {
        "tags": [],
        "id": "Pe7dH7nExBfH",
        "colab_type": "code",
        "colab": {}
      },
      "source": [
        "# Random signs from the Y data\n",
        "results = list(np.random.permutation(np.arange(0,y_test.shape[0])))\n",
        "for i in results[:10]:\n",
        "    sign_index = y_train[i]\n",
        "    print(i,sign_index,sign_names.at[sign_index,'SignName'])"
      ],
      "execution_count": null,
      "outputs": []
    },
    {
      "cell_type": "code",
      "metadata": {
        "pycharm": {
          "name": "#%%\n"
        },
        "id": "PADGSsdMxBfL",
        "colab_type": "code",
        "colab": {}
      },
      "source": [
        "# Random signs images and the correspondent name\n",
        "fig, axes = plt.subplots(5,5, figsize=(15,15))\n",
        "results = list(np.random.permutation(np.arange(0,y_test.shape[0])))\n",
        "for i,ax in  enumerate(axes.flat):\n",
        "    pos = results[i]\n",
        "    sign_index = y_train[pos]\n",
        "    ax.set_title(sign_names.at[sign_index,'SignName'],fontsize=10)\n",
        "    ax.imshow(X_train[pos])\n",
        "    ax.set_axis_off()"
      ],
      "execution_count": null,
      "outputs": []
    },
    {
      "cell_type": "markdown",
      "metadata": {
        "pycharm": {
          "name": "#%% md\n"
        },
        "id": "mtEY5WhVxBfQ",
        "colab_type": "text"
      },
      "source": [
        "## Data preprocessing"
      ]
    },
    {
      "cell_type": "code",
      "metadata": {
        "pycharm": {
          "name": "#%%\n"
        },
        "id": "ZMECseMCxBfR",
        "colab_type": "code",
        "colab": {}
      },
      "source": [
        "from sklearn.utils import shuffle\n",
        "X_train = np.sum(X_train/3, axis=3, keepdims=True)[:100,]\n",
        "X_valid = np.sum(X_valid/3, axis=3, keepdims=True)[:100,]\n",
        "X_train, y_train = shuffle(X_train, y_train[:100])"
      ],
      "execution_count": 10,
      "outputs": []
    },
    {
      "cell_type": "code",
      "metadata": {
        "pycharm": {
          "name": "#%%\n"
        },
        "id": "V7ZnVMiSxBfV",
        "colab_type": "code",
        "colab": {}
      },
      "source": [
        "import tensorflow as tf\n",
        "from tensorflow.contrib.layers import flatten\n",
        "def LeNet(x):\n",
        "    mu = 0\n",
        "    sigma = 0.1\n",
        "    conv1_W = tf.Variable(tf.truncated_normal(shape=(5, 5, 1, 6), mean = mu, stddev = sigma))\n",
        "    conv1_b = tf.Variable(tf.zeros(6))\n",
        "    conv1   = tf.nn.conv2d(x, conv1_W, strides=[1, 1, 1, 1], padding='VALID') + conv1_b\n",
        "    conv1 = tf.nn.relu(conv1)\n",
        "    conv1 = tf.nn.max_pool(conv1, ksize=[1, 2, 2, 1], strides=[1, 2, 2, 1], padding='VALID')\n",
        "    \n",
        "    #print(conv1.shape)\n",
        "    # Flatten last convolution\n",
        "    fc0   = flatten(conv1)\n",
        "    fc1_W = tf.Variable(tf.truncated_normal(shape=(1176, 120), mean = mu, stddev = sigma))\n",
        "    fc1_b = tf.Variable(tf.zeros(120))\n",
        "    fc1   = tf.matmul(fc0, fc1_W) + fc1_b\n",
        "    fc1    = tf.nn.relu(fc1)\n",
        "    fc2_W  = tf.Variable(tf.truncated_normal(shape=(120, 42), mean = mu, stddev = sigma))\n",
        "    fc2_b  = tf.Variable(tf.zeros(42))\n",
        "    print(fc1.shape,fc2_W.shape,fc2_b.shape)\n",
        "    logits = tf.matmul(fc1, fc2_W) + fc2_b\n",
        "    return logits"
      ],
      "execution_count": 11,
      "outputs": []
    },
    {
      "cell_type": "code",
      "metadata": {
        "pycharm": {
          "name": "#%%\n"
        },
        "id": "CxlePm9vxBfa",
        "colab_type": "code",
        "colab": {
          "base_uri": "https://localhost:8080/",
          "height": 315
        },
        "outputId": "4d783a93-9adc-4fbb-bffd-703c88b53e48"
      },
      "source": [
        "x = tf.placeholder(tf.float32, (None, 32, 32, 1))\n",
        "y = tf.placeholder(tf.int32, (None))\n",
        "one_hot_y = tf.one_hot(y, 42)\n",
        "rate = 0.001\n",
        "logits = LeNet(x)\n",
        "cross_entropy = tf.nn.softmax_cross_entropy_with_logits(labels=one_hot_y, logits=logits)\n",
        "loss_operation = tf.reduce_mean(cross_entropy)\n",
        "optimizer = tf.train.AdamOptimizer(learning_rate = rate)\n",
        "training_operation = optimizer.minimize(loss_operation)"
      ],
      "execution_count": 12,
      "outputs": [
        {
          "output_type": "stream",
          "text": [
            "(?, 14, 14, 6)\n",
            "WARNING:tensorflow:From /tensorflow-1.15.2/python3.6/tensorflow_core/contrib/layers/python/layers/layers.py:1634: flatten (from tensorflow.python.layers.core) is deprecated and will be removed in a future version.\n",
            "Instructions for updating:\n",
            "Use keras.layers.flatten instead.\n",
            "WARNING:tensorflow:From /tensorflow-1.15.2/python3.6/tensorflow_core/python/layers/core.py:332: Layer.apply (from tensorflow.python.keras.engine.base_layer) is deprecated and will be removed in a future version.\n",
            "Instructions for updating:\n",
            "Please use `layer.__call__` method instead.\n",
            "(?, 120) (120, 42) (42,)\n",
            "WARNING:tensorflow:From <ipython-input-12-0a69ca80aa5d>:6: softmax_cross_entropy_with_logits (from tensorflow.python.ops.nn_ops) is deprecated and will be removed in a future version.\n",
            "Instructions for updating:\n",
            "\n",
            "Future major versions of TensorFlow will allow gradients to flow\n",
            "into the labels input on backprop by default.\n",
            "\n",
            "See `tf.nn.softmax_cross_entropy_with_logits_v2`.\n",
            "\n"
          ],
          "name": "stdout"
        }
      ]
    },
    {
      "cell_type": "code",
      "metadata": {
        "pycharm": {
          "name": "#%%\n"
        },
        "id": "HsRHHMWZxBfe",
        "colab_type": "code",
        "colab": {}
      },
      "source": [
        "correct_prediction = tf.equal(tf.argmax(logits, 1), tf.argmax(one_hot_y, 1))\n",
        "accuracy_operation = tf.reduce_mean(tf.cast(correct_prediction, tf.float32))\n",
        "saver = tf.train.Saver()\n",
        "BATCH_SIZE=128\n",
        "EPOCHS=10\n",
        "def evaluate(X_data, y_data):\n",
        "    num_examples = len(X_data)\n",
        "    total_accuracy = 0\n",
        "    sess = tf.get_default_session()\n",
        "    for offset in range(0, num_examples, BATCH_SIZE):\n",
        "        batch_x, batch_y = X_data[offset:offset+BATCH_SIZE], y_data[offset:offset+BATCH_SIZE]\n",
        "        accuracy = sess.run(accuracy_operation, feed_dict={x: batch_x, y: batch_y})\n",
        "        total_accuracy += (accuracy * len(batch_x))\n",
        "    return total_accuracy / num_examples"
      ],
      "execution_count": 15,
      "outputs": []
    },
    {
      "cell_type": "code",
      "metadata": {
        "pycharm": {
          "name": "#%%\n"
        },
        "id": "yipzu4jqxBfh",
        "colab_type": "code",
        "colab": {
          "base_uri": "https://localhost:8080/",
          "height": 590
        },
        "outputId": "06b0f922-34db-4e43-e6d2-5c150af39210"
      },
      "source": [
        "with tf.Session() as sess:\n",
        "    sess.run(tf.global_variables_initializer())\n",
        "    num_examples = len(X_train)\n",
        "\n",
        "    print(\"Training...\")\n",
        "    print()\n",
        "    for i in range(EPOCHS):\n",
        "        X_train, y_train = shuffle(X_train, y_train)\n",
        "        for offset in range(0, num_examples, BATCH_SIZE):\n",
        "            end = offset + BATCH_SIZE\n",
        "            batch_x, batch_y = X_train[offset:end], y_train[offset:end]\n",
        "            sess.run(training_operation, feed_dict={x: batch_x, y: batch_y})\n",
        "\n",
        "        validation_accuracy = evaluate(X_valid, y_valid[:100,])\n",
        "        print(\"EPOCH {} ...\".format(i+1))\n",
        "        print(\"Validation Accuracy = {:.3f}\".format(validation_accuracy))\n",
        "        print()\n",
        "\n",
        "    saver.save(sess, './lenet')\n",
        "    print(\"Model saved\")\n"
      ],
      "execution_count": 16,
      "outputs": [
        {
          "output_type": "stream",
          "text": [
            "Training...\n",
            "\n",
            "EPOCH 1 ...\n",
            "Validation Accuracy = 0.000\n",
            "\n",
            "EPOCH 2 ...\n",
            "Validation Accuracy = 0.300\n",
            "\n",
            "EPOCH 3 ...\n",
            "Validation Accuracy = 0.300\n",
            "\n",
            "EPOCH 4 ...\n",
            "Validation Accuracy = 0.300\n",
            "\n",
            "EPOCH 5 ...\n",
            "Validation Accuracy = 0.300\n",
            "\n",
            "EPOCH 6 ...\n",
            "Validation Accuracy = 0.300\n",
            "\n",
            "EPOCH 7 ...\n",
            "Validation Accuracy = 0.300\n",
            "\n",
            "EPOCH 8 ...\n",
            "Validation Accuracy = 0.300\n",
            "\n",
            "EPOCH 9 ...\n",
            "Validation Accuracy = 0.300\n",
            "\n",
            "EPOCH 10 ...\n",
            "Validation Accuracy = 0.300\n",
            "\n",
            "Model saved\n"
          ],
          "name": "stdout"
        }
      ]
    },
    {
      "cell_type": "code",
      "metadata": {
        "pycharm": {
          "name": "#%%\n"
        },
        "id": "hvHPepeUxBfl",
        "colab_type": "code",
        "colab": {}
      },
      "source": [
        ""
      ],
      "execution_count": null,
      "outputs": []
    }
  ]
}