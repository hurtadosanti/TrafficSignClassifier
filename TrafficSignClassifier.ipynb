{
  "nbformat": 4,
  "nbformat_minor": 0,
  "metadata": {
    "kernelspec": {
      "display_name": "Python 3",
      "language": "python",
      "name": "python3"
    },
    "language_info": {
      "codemirror_mode": {
        "name": "ipython",
        "version": 3
      },
      "file_extension": ".py",
      "mimetype": "text/x-python",
      "name": "python",
      "nbconvert_exporter": "python",
      "pygments_lexer": "ipython3",
      "version": "3.6.3"
    },
    "colab": {
      "name": "TrafficSignClassifier.ipynb",
      "provenance": [],
      "collapsed_sections": [],
      "include_colab_link": true
    },
    "accelerator": "GPU"
  },
  "cells": [
    {
      "cell_type": "markdown",
      "metadata": {
        "id": "view-in-github",
        "colab_type": "text"
      },
      "source": [
        "<a href=\"https://colab.research.google.com/github/hurtadosanti/TrafficSignClassifier/blob/master/TrafficSignClassifier.ipynb\" target=\"_parent\"><img src=\"https://colab.research.google.com/assets/colab-badge.svg\" alt=\"Open In Colab\"/></a>"
      ]
    },
    {
      "cell_type": "markdown",
      "metadata": {
        "collapsed": false,
        "pycharm": {
          "name": "#%% md\n"
        },
        "id": "XtP1EQlNiWoE",
        "colab_type": "text"
      },
      "source": [
        "# Traffic Sign Recognition Classifier\n",
        "Self-Driving Car Engineer Nanodegree\n",
        "\n",
        "Deep Learning\n",
        "\n",
        "<a href=\"https://colab.research.google.com/github/hurtadosanti/TrafficSignClassifier/blob/master/TrafficSignClassifier.ipynb\" target=\"_parent\"><img src=\"https://colab.research.google.com/assets/colab-badge.svg\" alt=\"Open In Colab\"/></a>\n",
        "\n",
        "https://github.com/udacity/CarND-Traffic-Sign-Classifier-Project/blob/master/Traffic_Sign_Classifier.ipynb\n",
        "\n",
        "## Import packages"
      ]
    },
    {
      "cell_type": "code",
      "metadata": {
        "id": "BuTI6fSOtC4N",
        "colab_type": "code",
        "colab": {
          "base_uri": "https://localhost:8080/",
          "height": 34
        },
        "outputId": "b5750ed8-4fcd-4c93-efcc-d64a109ac344"
      },
      "source": [
        "from google.colab import drive\n",
        "drive.mount('/content/drive')\n",
        "path = './drive/\"My Drive\"/TrafficSignRecognitionClassifier'"
      ],
      "execution_count": 1,
      "outputs": [
        {
          "output_type": "stream",
          "text": [
            "Mounted at /content/drive\n"
          ],
          "name": "stdout"
        }
      ]
    },
    {
      "cell_type": "code",
      "metadata": {
        "id": "LtZxWD9vtRj4",
        "colab_type": "code",
        "colab": {
          "base_uri": "https://localhost:8080/",
          "height": 51
        },
        "outputId": "be630a33-c2a4-48d9-9dd4-e7ccb1579983"
      },
      "source": [
        "!cp * ./drive/'My Drive'/TrafficSignRecognitionClassifier"
      ],
      "execution_count": null,
      "outputs": [
        {
          "output_type": "stream",
          "text": [
            "cp: -r not specified; omitting directory 'drive'\n",
            "cp: -r not specified; omitting directory 'sample_data'\n"
          ],
          "name": "stdout"
        }
      ]
    },
    {
      "cell_type": "code",
      "metadata": {
        "id": "hbUQWzHvudxs",
        "colab_type": "code",
        "colab": {}
      },
      "source": [
        "!cp ./drive/'My Drive'/TrafficSignRecognitionClassifier/*.jpg ."
      ],
      "execution_count": 2,
      "outputs": []
    },
    {
      "cell_type": "code",
      "metadata": {
        "tags": [],
        "id": "8ir4q3lwxBeV",
        "colab_type": "code",
        "colab": {
          "base_uri": "https://localhost:8080/",
          "height": 34
        },
        "outputId": "da36fac9-a301-46d5-8937-473368a39df6"
      },
      "source": [
        "import numpy as np\n",
        "import pandas as pd\n",
        "import matplotlib.pyplot as plt\n",
        "from random import randint\n",
        "import pickle\n",
        "import os\n",
        "from zipfile import ZipFile\n",
        "from sklearn.utils import shuffle\n",
        "from skimage import data, color\n",
        "from skimage.transform import rotate, rescale, resize\n",
        "from skimage.util import random_noise\n",
        "from PIL import Image\n",
        "\n",
        "%tensorflow_version 1.x\n",
        "\n",
        "import tensorflow as tf\n",
        "from tensorflow.contrib.layers import flatten\n",
        "\n",
        "%matplotlib inline\n"
      ],
      "execution_count": 3,
      "outputs": [
        {
          "output_type": "stream",
          "text": [
            "TensorFlow 1.x selected.\n"
          ],
          "name": "stdout"
        }
      ]
    },
    {
      "cell_type": "markdown",
      "metadata": {
        "pycharm": {
          "name": "#%% md\n"
        },
        "id": "jhuoAmosxBem",
        "colab_type": "text"
      },
      "source": [
        "## Load Data"
      ]
    },
    {
      "cell_type": "code",
      "metadata": {
        "tags": [],
        "id": "vN960anwxBen",
        "colab_type": "code",
        "colab": {
          "base_uri": "https://localhost:8080/",
          "height": 428
        },
        "outputId": "f9d26866-a791-4d22-ae9d-5cc837802ffe"
      },
      "source": [
        "path = '/tmp/'\n",
        "traffic_signs_file = 'traffic-signs-data.zip'\n",
        "!wget --no-check-certificate \\\n",
        "    https://s3-us-west-1.amazonaws.com/udacity-selfdrivingcar/traffic-signs-data.zip \\\n",
        "    -O /tmp/traffic-signs-data.zip\n",
        "\n",
        "!wget --no-check-certificate \\\n",
        "    https://raw.githubusercontent.com/udacity/CarND-Traffic-Sign-Classifier-Project/master/signnames.csv\n",
        "\n",
        "with ZipFile(path+traffic_signs_file, 'r') as zipObj:\n",
        "   zipObj.extractall(path)\n",
        "   print('Finish extracting')"
      ],
      "execution_count": 4,
      "outputs": [
        {
          "output_type": "stream",
          "text": [
            "--2020-09-25 16:17:27--  https://s3-us-west-1.amazonaws.com/udacity-selfdrivingcar/traffic-signs-data.zip\n",
            "Resolving s3-us-west-1.amazonaws.com (s3-us-west-1.amazonaws.com)... 52.219.117.16\n",
            "Connecting to s3-us-west-1.amazonaws.com (s3-us-west-1.amazonaws.com)|52.219.117.16|:443... connected.\n",
            "HTTP request sent, awaiting response... 200 OK\n",
            "Length: 123524425 (118M) [application/zip]\n",
            "Saving to: ‘/tmp/traffic-signs-data.zip’\n",
            "\n",
            "/tmp/traffic-signs- 100%[===================>] 117.80M  83.7MB/s    in 1.4s    \n",
            "\n",
            "2020-09-25 16:17:29 (83.7 MB/s) - ‘/tmp/traffic-signs-data.zip’ saved [123524425/123524425]\n",
            "\n",
            "--2020-09-25 16:17:29--  https://raw.githubusercontent.com/udacity/CarND-Traffic-Sign-Classifier-Project/master/signnames.csv\n",
            "Resolving raw.githubusercontent.com (raw.githubusercontent.com)... 151.101.0.133, 151.101.64.133, 151.101.128.133, ...\n",
            "Connecting to raw.githubusercontent.com (raw.githubusercontent.com)|151.101.0.133|:443... connected.\n",
            "HTTP request sent, awaiting response... 200 OK\n",
            "Length: 999 [text/plain]\n",
            "Saving to: ‘signnames.csv’\n",
            "\n",
            "signnames.csv       100%[===================>]     999  --.-KB/s    in 0s      \n",
            "\n",
            "2020-09-25 16:17:29 (64.9 MB/s) - ‘signnames.csv’ saved [999/999]\n",
            "\n",
            "Finish extracting\n"
          ],
          "name": "stdout"
        }
      ]
    },
    {
      "cell_type": "code",
      "metadata": {
        "tags": [],
        "id": "xbBfNmxSxBet",
        "colab_type": "code",
        "colab": {}
      },
      "source": [
        "train = pickle.load(open(path+\"train.p\", 'rb'))\n",
        "valid=pickle.load(open(path+\"valid.p\", 'rb'))\n",
        "test = pickle.load(open(path+\"test.p\", 'rb'))\n",
        "X_train, y_train = train['features'], train['labels']\n",
        "X_valid, y_valid = valid['features'], valid['labels']\n",
        "X_test, y_test = test['features'], test['labels']\n",
        "# Verify that the data is complete\n",
        "assert(len(X_train)==len(y_train))\n",
        "assert(len(X_valid)==len(y_valid))\n",
        "assert(len(X_test)==len(y_test))"
      ],
      "execution_count": 5,
      "outputs": []
    },
    {
      "cell_type": "markdown",
      "metadata": {
        "collapsed": false,
        "pycharm": {
          "name": "#%% md\n"
        },
        "id": "tJ36p11KiWoa",
        "colab_type": "text"
      },
      "source": [
        "## Data Summary and exploration"
      ]
    },
    {
      "cell_type": "code",
      "metadata": {
        "pycharm": {
          "name": "#%%\n"
        },
        "id": "3RCTZj7qiWob",
        "colab_type": "code",
        "colab": {
          "base_uri": "https://localhost:8080/",
          "height": 425
        },
        "outputId": "0aca3014-17c9-4a0c-e401-f15e3f7be3cf"
      },
      "source": [
        "# Data Size\n",
        "print('Training set samples:\\t',len(X_train))\n",
        "print('Validation set samples:\\t',len(X_valid))\n",
        "print('Test set samples:\\t',len(X_test))\n",
        "# Sign names labels\n",
        "sign_names = pd.read_csv('signnames.csv')\n",
        "print('\\nMetrics\\n-------------')\n",
        "print(sign_names.describe())\n",
        "print('\\nSamples\\n-------------')\n",
        "print(sign_names.head())"
      ],
      "execution_count": 6,
      "outputs": [
        {
          "output_type": "stream",
          "text": [
            "Training set samples:\t 34799\n",
            "Validation set samples:\t 4410\n",
            "Test set samples:\t 12630\n",
            "\n",
            "Metrics\n",
            "-------------\n",
            "         ClassId\n",
            "count  43.000000\n",
            "mean   21.000000\n",
            "std    12.556539\n",
            "min     0.000000\n",
            "25%    10.500000\n",
            "50%    21.000000\n",
            "75%    31.500000\n",
            "max    42.000000\n",
            "\n",
            "Samples\n",
            "-------------\n",
            "   ClassId              SignName\n",
            "0        0  Speed limit (20km/h)\n",
            "1        1  Speed limit (30km/h)\n",
            "2        2  Speed limit (50km/h)\n",
            "3        3  Speed limit (60km/h)\n",
            "4        4  Speed limit (70km/h)\n"
          ],
          "name": "stdout"
        }
      ]
    },
    {
      "cell_type": "markdown",
      "metadata": {
        "collapsed": false,
        "pycharm": {
          "name": "#%% md\n"
        },
        "id": "geyiuAnniWog",
        "colab_type": "text"
      },
      "source": [
        "### Random Samples"
      ]
    },
    {
      "cell_type": "code",
      "metadata": {
        "pycharm": {
          "name": "#%%\n"
        },
        "id": "DyQA65oLiWoh",
        "colab_type": "code",
        "colab": {
          "base_uri": "https://localhost:8080/",
          "height": 221
        },
        "outputId": "a5487ca8-c4d7-486d-b0d4-7987c607a67d"
      },
      "source": [
        "# Random signs from the Y data\n",
        "results = list(np.random.permutation(np.arange(0,y_test.shape[0])))\n",
        "print('Sample\\tSign id\\tName\\n-----------')\n",
        "for i in results[:10]:\n",
        "    sign_index = y_train[i]\n",
        "    print(f'{i}\\t{sign_index}\\t{sign_names.at[sign_index,\"SignName\"]}')"
      ],
      "execution_count": null,
      "outputs": [
        {
          "output_type": "stream",
          "text": [
            "Sample\tSign id\tName\n",
            "-----------\n",
            "11118\t9\tNo passing\n",
            "12002\t9\tNo passing\n",
            "8329\t4\tSpeed limit (70km/h)\n",
            "10800\t24\tRoad narrows on the right\n",
            "82\t41\tEnd of no passing\n",
            "10377\t27\tPedestrians\n",
            "3453\t1\tSpeed limit (30km/h)\n",
            "3372\t1\tSpeed limit (30km/h)\n",
            "5139\t16\tVehicles over 3.5 metric tons prohibited\n",
            "7681\t4\tSpeed limit (70km/h)\n"
          ],
          "name": "stdout"
        }
      ]
    },
    {
      "cell_type": "code",
      "metadata": {
        "pycharm": {
          "name": "#%%\n"
        },
        "id": "yKf0ujv4iWom",
        "colab_type": "code",
        "colab": {
          "base_uri": "https://localhost:8080/",
          "height": 848
        },
        "outputId": "52ee17b6-e9e8-48c7-8080-7ea588452422"
      },
      "source": [
        "# Random signs images and the correspondent name\n",
        "fig, axes = plt.subplots(5,5, figsize=(15,15))\n",
        "results = list(np.random.permutation(np.arange(0,y_test.shape[0])))\n",
        "for i,ax in  enumerate(axes.flat):\n",
        "    pos = results[i]\n",
        "    sign_index = y_train[pos]\n",
        "    ax.set_title(sign_names.at[sign_index,'SignName'],fontsize=10)\n",
        "    ax.imshow(X_train[pos])\n",
        "    ax.set_axis_off()"
      ],
      "execution_count": null,
      "outputs": [
        {
          "output_type": "display_data",
          "data": {
            "image/png": "[encoded data removed]",
            "text/plain": [
              "<Figure size 1080x1080 with 25 Axes>"
            ]
          },
          "metadata": {
            "tags": [],
            "needs_background": "light"
          }
        }
      ]
    },
    {
      "cell_type": "markdown",
      "metadata": {
        "collapsed": false,
        "pycharm": {
          "name": "#%% md\n"
        },
        "id": "AZWvzf1TiWot",
        "colab_type": "text"
      },
      "source": [
        "## Data distribution"
      ]
    },
    {
      "cell_type": "code",
      "metadata": {
        "pycharm": {
          "name": "#%%\n"
        },
        "id": "ZmmDX71kxBfC",
        "colab_type": "code",
        "colab": {
          "base_uri": "https://localhost:8080/",
          "height": 435
        },
        "outputId": "d1c3e32c-a7f1-4f34-ee7a-26a9e7566c4f"
      },
      "source": [
        "# Describe test Y data\n",
        "df_y_test = pd.DataFrame(y_test)\n",
        "print(df_y_test.describe())\n",
        "df_y_test.plot.hist()"
      ],
      "execution_count": null,
      "outputs": [
        {
          "output_type": "stream",
          "text": [
            "                  0\n",
            "count  12630.000000\n",
            "mean      15.551069\n",
            "std       11.947123\n",
            "min        0.000000\n",
            "25%        5.000000\n",
            "50%       12.000000\n",
            "75%       25.000000\n",
            "max       42.000000\n"
          ],
          "name": "stdout"
        },
        {
          "output_type": "execute_result",
          "data": {
            "text/plain": [
              "<matplotlib.axes._subplots.AxesSubplot at 0x7fbfd85e2fd0>"
            ]
          },
          "metadata": {
            "tags": []
          },
          "execution_count": 7
        },
        {
          "output_type": "display_data",
          "data": {
            "image/png": "[encoded data removed]",
            "text/plain": [
              "<Figure size 432x288 with 1 Axes>"
            ]
          },
          "metadata": {
            "tags": [],
            "needs_background": "light"
          }
        }
      ]
    },
    {
      "cell_type": "markdown",
      "metadata": {
        "collapsed": false,
        "pycharm": {
          "name": "#%% md\n"
        },
        "id": "Hp88q-cziWoy",
        "colab_type": "text"
      },
      "source": [
        "## Data preprocessing"
      ]
    },
    {
      "cell_type": "code",
      "metadata": {
        "pycharm": {
          "name": "#%%\n"
        },
        "id": "ZMECseMCxBfR",
        "colab_type": "code",
        "colab": {}
      },
      "source": [
        "def convert_gray(images):\n",
        "    gray = []\n",
        "    for i,img in enumerate(images):\n",
        "        gray_image = color.rgb2grey(img)\n",
        "        new_row = np.reshape(gray_image,gray_image.shape+(1,))\n",
        "        gray.append(new_row)\n",
        "    result = np.array(gray)\n",
        "    del gray\n",
        "    return result\n",
        "\n",
        "def augment_data_set(images,labels,angle):\n",
        "    augmented_list = []\n",
        "    label_list = []\n",
        "    for i,img in enumerate(images):\n",
        "      augmented_list.append(rotate(img,angle))\n",
        "      augmented_list.append(rotate(img,angle*-1))\n",
        "      augmented_list.append(random_noise(img))\n",
        "      label_list.append(labels[i])\n",
        "      label_list.append(labels[i])\n",
        "      label_list.append(labels[i])\n",
        "    res_rotated = np.array(augmented_list)\n",
        "    res_label = np.array(label_list)\n",
        "    del augmented_list\n",
        "    del label_list\n",
        "    return res_rotated,res_label"
      ],
      "execution_count": 7,
      "outputs": []
    },
    {
      "cell_type": "code",
      "metadata": {
        "id": "14r7so-qZvTE",
        "colab_type": "code",
        "pycharm": {
          "name": "#%%\n"
        },
        "colab": {}
      },
      "source": [
        "X_train_normalized = X_train/255.0\n",
        "X_valid_normalized = X_valid/255.0\n",
        "#X_train_gray = np.sum(X_train_normalized/3, axis=3, keepdims=True)\n",
        "X_train_gray = convert_gray(X_train_normalized)\n",
        "X_valid_gray = convert_gray(X_valid_normalized)\n",
        "#X_valid_gray = np.sum(X_valid_normalized/3, axis=3, keepdims=True)"
      ],
      "execution_count": 8,
      "outputs": []
    },
    {
      "cell_type": "code",
      "metadata": {
        "id": "T7_9wNalZ5eg",
        "colab_type": "code",
        "colab": {
          "base_uri": "https://localhost:8080/",
          "height": 51
        },
        "outputId": "24f5023a-755e-42d8-ee7c-c9aca378a257"
      },
      "source": [
        "augmented_images,augmented_labels = augment_data_set(X_train_gray,y_train,15)\n",
        "print('augmented data',augmented_images.shape,augmented_labels.shape)\n",
        "assert len(augmented_images)==len(augmented_labels)\n",
        "X_train_augmented = np.concatenate((X_train_gray,augmented_images),axis=0)\n",
        "y_train_augmented = np.concatenate((y_train,augmented_labels),axis=0)\n",
        "\n",
        "print('complete data',X_train_augmented.shape,y_train_augmented.shape)\n",
        "assert len(X_train_augmented)==len(y_train_augmented)"
      ],
      "execution_count": 9,
      "outputs": [
        {
          "output_type": "stream",
          "text": [
            "augmented data (104397, 32, 32, 1) (104397,)\n",
            "complete data (139196, 32, 32, 1) (139196,)\n"
          ],
          "name": "stdout"
        }
      ]
    },
    {
      "cell_type": "code",
      "metadata": {
        "id": "Cjx7Qr5Zb0HI",
        "colab_type": "code",
        "colab": {}
      },
      "source": [
        "X_train_shuffle, y_train_shuffle  = shuffle(X_train_augmented, y_train_augmented)"
      ],
      "execution_count": 10,
      "outputs": []
    },
    {
      "cell_type": "markdown",
      "metadata": {
        "id": "JwyhaMmBaxIM",
        "colab_type": "text",
        "pycharm": {
          "name": "#%% md\n"
        }
      },
      "source": [
        "## Training\n",
        "### Network Architecture"
      ]
    },
    {
      "cell_type": "code",
      "metadata": {
        "pycharm": {
          "name": "#%%\n"
        },
        "id": "V7ZnVMiSxBfV",
        "colab_type": "code",
        "colab": {}
      },
      "source": [
        "def LeNet(x,dropout):\n",
        "    mu = 0\n",
        "    sigma = 0.1\n",
        "    conv1_W = tf.Variable(tf.truncated_normal(shape=(5, 5, 1, 16), mean = mu, stddev = sigma))\n",
        "    conv1_b = tf.Variable(tf.zeros(16))\n",
        "    # Convolution 1 and max_pool\n",
        "    conv1   = tf.nn.conv2d(x, conv1_W, strides=[1, 1, 1, 1], padding='VALID') + conv1_b\n",
        "    conv1 = tf.nn.relu(conv1)\n",
        "    conv1 = tf.nn.max_pool(conv1, ksize=[1, 2, 2, 1], strides=[1, 2, 2, 1], padding='VALID')\n",
        "    #print(conv1.shape)\n",
        "\n",
        "    conv2_W = tf.Variable(tf.truncated_normal(shape=(5, 5, 16, 32), mean = mu, stddev = sigma))\n",
        "    conv2_b = tf.Variable(tf.zeros(32))\n",
        "    # Convolution 2 and max_pool\n",
        "    conv2   = tf.nn.conv2d(conv1, conv2_W, strides=[1, 1, 1, 1], padding='VALID') + conv2_b\n",
        "    conv2 = tf.nn.relu(conv2)\n",
        "    conv2 = tf.nn.max_pool(conv2, ksize=[1, 2, 2, 1], strides=[1, 2, 2, 1], padding='VALID')\n",
        "\n",
        "    #print(conv2.shape)\n",
        "    # Flatten last convolution\n",
        "    fc0   = flatten(conv2)\n",
        "    fc0   = tf.nn.dropout(fc0, dropout)\n",
        "    #print(fc0.shape)\n",
        "    fc1_W = tf.Variable(tf.truncated_normal(shape=(800, 120), mean = mu, stddev = sigma))\n",
        "    fc1_b = tf.Variable(tf.zeros(120))\n",
        "    fc1   = tf.matmul(fc0, fc1_W) + fc1_b\n",
        "    fc1   = tf.nn.relu(fc1)\n",
        "\n",
        "    fc2_W  = tf.Variable(tf.truncated_normal(shape=(120, 43), mean = mu, stddev = sigma))\n",
        "    fc2_b  = tf.Variable(tf.zeros(43))\n",
        "    #print(fc1.shape,fc2_W.shape,fc2_b.shape)\n",
        "    logits = tf.matmul(fc1, fc2_W) + fc2_b\n",
        "    return logits"
      ],
      "execution_count": 11,
      "outputs": []
    },
    {
      "cell_type": "markdown",
      "metadata": {
        "collapsed": false,
        "pycharm": {
          "name": "#%% md\n"
        },
        "id": "EQrHt-1eiWpK",
        "colab_type": "text"
      },
      "source": [
        "### Prepare the model"
      ]
    },
    {
      "cell_type": "code",
      "metadata": {
        "pycharm": {
          "name": "#%%\n"
        },
        "id": "1UkE2x3MiWpL",
        "colab_type": "code",
        "colab": {
          "base_uri": "https://localhost:8080/",
          "height": 326
        },
        "outputId": "7a218410-14ab-4947-8f96-f6fc2d6bd9bd"
      },
      "source": [
        "x = tf.placeholder(tf.float32, (None, 32, 32, 1))\n",
        "y = tf.placeholder(tf.int32, (None))\n",
        "keep_prob = tf.placeholder(tf.float32)\n",
        "one_hot_y = tf.one_hot(y, 43)\n",
        "rate = 0.0005\n",
        "dropout = 0.4\n",
        "logits = LeNet(x,keep_prob)\n",
        "cross_entropy = tf.nn.softmax_cross_entropy_with_logits(labels=one_hot_y, logits=logits)\n",
        "loss_operation = tf.reduce_mean(cross_entropy)\n",
        "optimizer = tf.train.AdamOptimizer(learning_rate = rate)\n",
        "training_operation = optimizer.minimize(loss_operation)"
      ],
      "execution_count": 12,
      "outputs": [
        {
          "output_type": "stream",
          "text": [
            "WARNING:tensorflow:From /tensorflow-1.15.2/python3.6/tensorflow_core/contrib/layers/python/layers/layers.py:1634: flatten (from tensorflow.python.layers.core) is deprecated and will be removed in a future version.\n",
            "Instructions for updating:\n",
            "Use keras.layers.flatten instead.\n",
            "WARNING:tensorflow:From /tensorflow-1.15.2/python3.6/tensorflow_core/python/layers/core.py:332: Layer.apply (from tensorflow.python.keras.engine.base_layer) is deprecated and will be removed in a future version.\n",
            "Instructions for updating:\n",
            "Please use `layer.__call__` method instead.\n",
            "WARNING:tensorflow:From <ipython-input-11-d9b42f7513f7>:22: calling dropout (from tensorflow.python.ops.nn_ops) with keep_prob is deprecated and will be removed in a future version.\n",
            "Instructions for updating:\n",
            "Please use `rate` instead of `keep_prob`. Rate should be set to `rate = 1 - keep_prob`.\n",
            "WARNING:tensorflow:From <ipython-input-12-6761ec017dff>:8: softmax_cross_entropy_with_logits (from tensorflow.python.ops.nn_ops) is deprecated and will be removed in a future version.\n",
            "Instructions for updating:\n",
            "\n",
            "Future major versions of TensorFlow will allow gradients to flow\n",
            "into the labels input on backprop by default.\n",
            "\n",
            "See `tf.nn.softmax_cross_entropy_with_logits_v2`.\n",
            "\n"
          ],
          "name": "stdout"
        }
      ]
    },
    {
      "cell_type": "markdown",
      "metadata": {
        "id": "pX8vOYy-bI_l",
        "colab_type": "text",
        "pycharm": {
          "name": "#%% md\n"
        }
      },
      "source": [
        "### Execute the training\n",
        "We stop when accuracy is over 0.95"
      ]
    },
    {
      "cell_type": "code",
      "metadata": {
        "pycharm": {
          "name": "#%%\n"
        },
        "id": "r05AK1AgiWpP",
        "colab_type": "code",
        "colab": {
          "base_uri": "https://localhost:8080/",
          "height": 391
        },
        "outputId": "a67f1b9d-3b4a-482a-8d69-7ee127ff06f8"
      },
      "source": [
        "BATCH_SIZE=128\n",
        "EPOCHS=15\n",
        "\n",
        "correct_prediction = tf.equal(tf.argmax(logits, 1), tf.argmax(one_hot_y, 1))\n",
        "accuracy_operation = tf.reduce_mean(tf.cast(correct_prediction, tf.float32))\n",
        "saver = tf.train.Saver()\n",
        "def evaluate(X_data, y_data):\n",
        "    examples = len(X_data)\n",
        "    total_accuracy = 0\n",
        "    sess = tf.get_default_session()\n",
        "    for eval_offset in range(0, examples, BATCH_SIZE):\n",
        "        eval_batch_x, eval_batch_y = X_data[eval_offset:eval_offset+BATCH_SIZE], y_data[eval_offset:eval_offset+BATCH_SIZE]\n",
        "        accuracy = sess.run(accuracy_operation, feed_dict={x: eval_batch_x,\n",
        "                                                           y: eval_batch_y,\n",
        "                                                           keep_prob: 1.})\n",
        "        total_accuracy += (accuracy * len(eval_batch_x))\n",
        "    return total_accuracy / examples\n",
        "\n",
        "with tf.Session() as sess:\n",
        "    sess.run(tf.global_variables_initializer())\n",
        "    num_examples = len(X_train_shuffle)\n",
        "\n",
        "    print(\"Training...\")\n",
        "    print()\n",
        "    for i in range(EPOCHS):\n",
        "        X_train_shuffle, y_train_shuffle = shuffle(X_train_shuffle, y_train_shuffle)\n",
        "        for offset in range(0, num_examples, BATCH_SIZE):\n",
        "            end = offset + BATCH_SIZE\n",
        "            batch_x, batch_y = X_train_shuffle[offset:end], y_train_shuffle[offset:end]\n",
        "            sess.run(training_operation, feed_dict={x: batch_x,\n",
        "                                                    y: batch_y,\n",
        "                                                    keep_prob: dropout})\n",
        "\n",
        "        validation_accuracy = evaluate(X_valid_gray, y_valid)\n",
        "        print(\"EPOCH {} ...\".format(i+1))\n",
        "        print(\"Validation Accuracy = {:.3f}\".format(validation_accuracy))\n",
        "        print()\n",
        "        if validation_accuracy >= 0.95:\n",
        "            print(f'We made it with :{validation_accuracy}')\n",
        "            saver.save(sess, './lenet')\n",
        "            print(\"Model saved\")\n",
        "            break\n",
        "    \n",
        "    "
      ],
      "execution_count": 13,
      "outputs": [
        {
          "output_type": "stream",
          "text": [
            "Training...\n",
            "\n",
            "EPOCH 1 ...\n",
            "Validation Accuracy = 0.831\n",
            "\n",
            "EPOCH 2 ...\n",
            "Validation Accuracy = 0.903\n",
            "\n",
            "EPOCH 3 ...\n",
            "Validation Accuracy = 0.925\n",
            "\n",
            "EPOCH 4 ...\n",
            "Validation Accuracy = 0.933\n",
            "\n",
            "EPOCH 5 ...\n",
            "Validation Accuracy = 0.940\n",
            "\n",
            "EPOCH 6 ...\n",
            "Validation Accuracy = 0.953\n",
            "\n",
            "We made it with :0.9528344671201814\n",
            "Model saved\n"
          ],
          "name": "stdout"
        }
      ]
    },
    {
      "cell_type": "markdown",
      "metadata": {
        "collapsed": false,
        "pycharm": {
          "name": "#%% md\n"
        },
        "id": "EuBfciLciWpR",
        "colab_type": "text"
      },
      "source": [
        "## Test the model"
      ]
    },
    {
      "cell_type": "code",
      "metadata": {
        "id": "yrVsW3jkwMX8",
        "colab_type": "code",
        "colab": {
          "base_uri": "https://localhost:8080/",
          "height": 51
        },
        "outputId": "8fd20527-7468-4498-c833-fa2dc3dc3ae1"
      },
      "source": [
        "X_test_normalized = X_test/255.0\n",
        "#X_train_gray = np.sum(X_train_normalized/3, axis=3, keepdims=True)\n",
        "X_test_gray = convert_gray(X_test_normalized)\n",
        "with tf.Session() as sess:\n",
        "    saver.restore(sess, tf.train.latest_checkpoint('.'))\n",
        "\n",
        "    test_accuracy = evaluate(X_test_gray, y_test)\n",
        "    print(\"Test Accuracy = {:.3f}\".format(test_accuracy))"
      ],
      "execution_count": 14,
      "outputs": [
        {
          "output_type": "stream",
          "text": [
            "INFO:tensorflow:Restoring parameters from ./lenet\n",
            "Test Accuracy = 0.937\n"
          ],
          "name": "stdout"
        }
      ]
    },
    {
      "cell_type": "markdown",
      "metadata": {
        "id": "ov3ekmA5z3JE",
        "colab_type": "text"
      },
      "source": [
        "# Custom Images\n",
        "\n",
        "## Read images into a numpy array to be tested"
      ]
    },
    {
      "cell_type": "code",
      "metadata": {
        "id": "1YwcEZ5TWzAI",
        "colab_type": "code",
        "colab": {
          "base_uri": "https://localhost:8080/",
          "height": 34
        },
        "outputId": "f5f714ca-bcb4-4cec-93b8-f04fde2473a0"
      },
      "source": [
        "with ZipFile('images.zip', 'r') as zipObj:\n",
        "   zipObj.extractall('./')\n",
        "   print('Finish extracting')"
      ],
      "execution_count": null,
      "outputs": [
        {
          "output_type": "stream",
          "text": [
            "Finish extracting\n"
          ],
          "name": "stdout"
        }
      ]
    },
    {
      "cell_type": "code",
      "metadata": {
        "id": "8rIR0zudwEcR",
        "colab_type": "code",
        "colab": {
          "base_uri": "https://localhost:8080/",
          "height": 385
        },
        "outputId": "2acd3054-3afc-4203-8323-c0d972dfd983"
      },
      "source": [
        "# Get all the jpg images on the folder and rescale\n",
        "test_images = []\n",
        "test_labels = []\n",
        "for f in os.listdir():\n",
        "  if f.endswith('.jpg'):\n",
        "    print(f'image read:\\t{f}')\n",
        "    img = Image.open(f)\n",
        "    img = np.asarray(img)\n",
        "    test_images.append(resize(img,(32,32)))\n",
        "    test_labels.append(f[3:5])\n",
        "test_images = np.asarray(test_images)\n",
        "test_gray_images = convert_gray(test_images)\n",
        "plt.imshow(test_images[4])"
      ],
      "execution_count": 20,
      "outputs": [
        {
          "output_type": "stream",
          "text": [
            "image read:\t06-25_Road_work.jpg\n",
            "image read:\t03-11_Right-of-way_at_the_next_intersection.jpg\n",
            "image read:\t01-40_Roundabout_mandatory.jpg\n",
            "image read:\t02-28_Children_crossing.jpg\n",
            "image read:\t05-27_Pedestrians.jpg\n",
            "image read:\t04-23_Slippery_road.jpg\n"
          ],
          "name": "stdout"
        },
        {
          "output_type": "execute_result",
          "data": {
            "text/plain": [
              "<matplotlib.image.AxesImage at 0x7f37001ab7f0>"
            ]
          },
          "metadata": {
            "tags": []
          },
          "execution_count": 20
        },
        {
          "output_type": "display_data",
          "data": {
            "image/png": "[encoded data removed]",
            "text/plain": [
              "<Figure size 432x288 with 1 Axes>"
            ]
          },
          "metadata": {
            "tags": [],
            "needs_background": "light"
          }
        }
      ]
    },
    {
      "cell_type": "code",
      "metadata": {
        "id": "mMSs-ZH2qpeJ",
        "colab_type": "code",
        "colab": {
          "base_uri": "https://localhost:8080/",
          "height": 34
        },
        "outputId": "1b5b2b64-cce3-446c-f4e4-f3c5c8efc03f"
      },
      "source": [
        "test_labels = np.asarray(test_labels)\n",
        "print(test_gray_images.shape,test_labels.shape)"
      ],
      "execution_count": 29,
      "outputs": [
        {
          "output_type": "stream",
          "text": [
            "(6, 32, 32, 1) (6,)\n"
          ],
          "name": "stdout"
        }
      ]
    },
    {
      "cell_type": "markdown",
      "metadata": {
        "id": "roEifxYVHQnF",
        "colab_type": "text"
      },
      "source": [
        "## Custom predictions\n",
        "Predict the Sign Type for Each Image"
      ]
    },
    {
      "cell_type": "code",
      "metadata": {
        "id": "UUTiMSf2HW05",
        "colab_type": "code",
        "colab": {
          "base_uri": "https://localhost:8080/",
          "height": 170
        },
        "outputId": "873f1073-8a98-436b-937a-f221ee8b4699"
      },
      "source": [
        "prediction=tf.argmax(logits,1)\n",
        "\n",
        "with tf.Session() as sess:\n",
        "    saver.restore(sess, tf.train.latest_checkpoint('.'))\n",
        "    predictions = sess.run(prediction, feed_dict={x: test_gray_images, keep_prob: 1.0})"
      ],
      "execution_count": 26,
      "outputs": [
        {
          "output_type": "stream",
          "text": [
            "INFO:tensorflow:Restoring parameters from ./lenet\n",
            "\n",
            " value\n",
            "0\tRoad work\t25\t25\n",
            "1\tRight-of-way at the next intersection\t11\t11\n",
            "2\tRoundabout mandatory\t40\t40\n",
            "3\tAhead only\t35\t28\n",
            "4\tRoundabout mandatory\t40\t27\n",
            "5\tBicycles crossing\t29\t23\n"
          ],
          "name": "stdout"
        }
      ]
    },
    {
      "cell_type": "code",
      "metadata": {
        "id": "TPCU0jRRK3ye",
        "colab_type": "code",
        "colab": {
          "base_uri": "https://localhost:8080/",
          "height": 119
        },
        "outputId": "2d685d54-7c19-4572-c39f-85d7c380e75d"
      },
      "source": [
        "for i,val in enumerate(predictions):\n",
        "  print(f'{i}\\t{sign_names.at[val,\"SignName\"]}\\t{val}\\t{test_labels[i]}')"
      ],
      "execution_count": 27,
      "outputs": [
        {
          "output_type": "stream",
          "text": [
            "0\tRoad work\t25\t25\n",
            "1\tRight-of-way at the next intersection\t11\t11\n",
            "2\tRoundabout mandatory\t40\t40\n",
            "3\tAhead only\t35\t28\n",
            "4\tRoundabout mandatory\t40\t27\n",
            "5\tBicycles crossing\t29\t23\n"
          ],
          "name": "stdout"
        }
      ]
    },
    {
      "cell_type": "markdown",
      "metadata": {
        "id": "XlTVT2qrHKAk",
        "colab_type": "text"
      },
      "source": [
        "## Custom data accuracy"
      ]
    },
    {
      "cell_type": "code",
      "metadata": {
        "id": "R5LvghJ0Yu6a",
        "colab_type": "code",
        "colab": {
          "base_uri": "https://localhost:8080/",
          "height": 51
        },
        "outputId": "4af4f492-d96a-4786-b3d2-74d270f8b7fa"
      },
      "source": [
        "with tf.Session() as sess:\n",
        "    saver.restore(sess, tf.train.latest_checkpoint('.'))\n",
        "    test_accuracy = evaluate(test_gray_images, test_labels)\n",
        "    print(\"Test Accuracy = {:.3f}\".format(test_accuracy))"
      ],
      "execution_count": 16,
      "outputs": [
        {
          "output_type": "stream",
          "text": [
            "INFO:tensorflow:Restoring parameters from ./lenet\n",
            "Test Accuracy = 0.500\n"
          ],
          "name": "stdout"
        }
      ]
    },
    {
      "cell_type": "markdown",
      "metadata": {
        "id": "-xU1IC7nwHAL",
        "colab_type": "text"
      },
      "source": [
        "## Softmax Probabilities"
      ]
    },
    {
      "cell_type": "code",
      "metadata": {
        "id": "lk86U-HSzSxH",
        "colab_type": "code",
        "colab": {
          "base_uri": "https://localhost:8080/",
          "height": 34
        },
        "outputId": "193a11ed-88e3-461e-cbba-00af96216f5e"
      },
      "source": [
        "softmax_logits = tf.nn.softmax(logits)\n",
        "top_k = tf.nn.top_k(softmax_logits, k=5)\n",
        "with tf.Session() as sess:\n",
        "    sess.run(tf.global_variables_initializer())\n",
        "    saver.restore(sess, tf.train.latest_checkpoint('.'))\n",
        "    session_softmax_logits = sess.run(softmax_logits, feed_dict={x: test_gray_images,\n",
        "                                                                 keep_prob: 1.0})\n",
        "    session_top_k = sess.run(top_k, feed_dict={x: test_gray_images, keep_prob: 1.0})\n",
        " "
      ],
      "execution_count": 28,
      "outputs": [
        {
          "output_type": "stream",
          "text": [
            "INFO:tensorflow:Restoring parameters from ./lenet\n"
          ],
          "name": "stdout"
        }
      ]
    },
    {
      "cell_type": "markdown",
      "metadata": {
        "id": "ytqoB-V1Ep7j",
        "colab_type": "text"
      },
      "source": [
        "## What other options where predicted"
      ]
    },
    {
      "cell_type": "code",
      "metadata": {
        "id": "_2Loxv5EzbiF",
        "colab_type": "code",
        "colab": {
          "base_uri": "https://localhost:8080/",
          "height": 119
        },
        "outputId": "a491d306-b01b-42f1-e198-575933573a3b"
      },
      "source": [
        "for i in session_top_k.indices:\n",
        "    for j in i[:-3]:\n",
        "        print(sign_names.at[j,'SignName'],end = '|')\n",
        "    print()"
      ],
      "execution_count": 34,
      "outputs": [
        {
          "output_type": "stream",
          "text": [
            "Road work|Road narrows on the right|\n",
            "Right-of-way at the next intersection|Pedestrians|\n",
            "Roundabout mandatory|No entry|\n",
            "Ahead only|Road narrows on the right|\n",
            "Roundabout mandatory|General caution|\n",
            "Bicycles crossing|Bumpy road|\n"
          ],
          "name": "stdout"
        }
      ]
    },
    {
      "cell_type": "markdown",
      "metadata": {
        "id": "mOlyva8_MLuH",
        "colab_type": "text"
      },
      "source": [
        "## Top 5 predictions\n",
        "Real Values, Predicted Values"
      ]
    },
    {
      "cell_type": "code",
      "metadata": {
        "id": "UEg1yA7XLzey",
        "colab_type": "code",
        "colab": {
          "base_uri": "https://localhost:8080/",
          "height": 119
        },
        "outputId": "231c695b-b22b-43a6-fd99-fcb86b3571b0"
      },
      "source": [
        "### Print out the top five softmax probabilities for the predictions on the German traffic sign images found on the web.\n",
        "for i,predictions in enumerate(session_top_k.indices):\n",
        "  print(test_labels[i],predictions)"
      ],
      "execution_count": 36,
      "outputs": [
        {
          "output_type": "stream",
          "text": [
            "25 [25 24 20 27 11]\n",
            "11 [11 27 30 21 24]\n",
            "40 [40 17 12  7 38]\n",
            "28 [35 24 11 25 29]\n",
            "27 [40 18 37 11 29]\n",
            "23 [29 22 28 24 20]\n"
          ],
          "name": "stdout"
        }
      ]
    },
    {
      "cell_type": "markdown",
      "metadata": {
        "id": "cvIQv3JmLRZT",
        "colab_type": "text"
      },
      "source": [
        ""
      ]
    },
    {
      "cell_type": "code",
      "metadata": {
        "id": "BDoQQSHfzXRX",
        "colab_type": "code",
        "colab": {
          "base_uri": "https://localhost:8080/",
          "height": 1000
        },
        "outputId": "a84e7044-4f64-47a5-fde3-47249ed97f9f"
      },
      "source": [
        "print(session_softmax_logits)\n",
        "print(session_top_k)"
      ],
      "execution_count": 29,
      "outputs": [
        {
          "output_type": "stream",
          "text": [
            "[[9.04663202e-21 1.43211980e-17 3.18035985e-20 6.82108229e-19\n",
            "  2.78453574e-23 8.97834172e-16 4.54104837e-19 2.24188110e-22\n",
            "  2.82356820e-22 3.34797819e-25 6.12646926e-20 5.30168309e-09\n",
            "  1.26172850e-14 2.03027277e-24 3.40027489e-24 4.57126785e-21\n",
            "  5.97448295e-30 1.11491114e-31 3.60301632e-12 4.35908608e-15\n",
            "  9.23490973e-08 6.41805250e-15 3.67602129e-12 1.36516558e-13\n",
            "  7.12856377e-07 9.99999166e-01 1.56729248e-11 2.06649862e-08\n",
            "  2.29797019e-12 1.59462152e-10 4.44821957e-10 8.71922005e-16\n",
            "  5.66279834e-19 6.07320408e-21 9.08511128e-16 2.36087842e-13\n",
            "  1.29792051e-13 8.69652697e-17 1.05360597e-15 9.93036021e-29\n",
            "  1.07345482e-18 2.20712401e-22 5.67260221e-23]\n",
            " [5.84876291e-18 7.75021526e-14 9.37170269e-21 1.62696438e-18\n",
            "  1.25808097e-23 2.40149867e-19 7.40455264e-14 2.98296141e-19\n",
            "  1.76133897e-23 1.36903174e-20 1.63114491e-20 9.99996424e-01\n",
            "  2.07482313e-11 7.27525964e-20 9.27665399e-23 1.76703997e-22\n",
            "  2.99204132e-21 3.49696643e-23 1.14319676e-09 6.96692140e-12\n",
            "  8.50400392e-12 5.07814502e-09 1.91855964e-20 1.29247724e-09\n",
            "  4.23940616e-09 1.78363557e-11 3.03281081e-11 3.29156251e-06\n",
            "  1.04681375e-09 4.29810809e-13 2.81883047e-07 3.32074402e-13\n",
            "  3.38886159e-14 3.11606145e-12 1.62872424e-11 4.50758909e-11\n",
            "  1.24733945e-14 3.89259073e-13 2.96075735e-16 4.44796382e-24\n",
            "  3.65442503e-11 6.35544575e-15 5.50475870e-14]\n",
            " [2.61717783e-11 1.75707519e-05 7.17996045e-07 9.86961732e-06\n",
            "  1.23496509e-13 3.80117200e-07 1.45951094e-06 3.37609812e-03\n",
            "  9.72640279e-08 1.01735559e-03 1.64108031e-04 4.25104554e-05\n",
            "  1.07457619e-02 9.42786994e-12 1.94657400e-06 3.56484980e-10\n",
            "  9.16798745e-05 1.23659253e-01 2.31604748e-15 5.75953420e-17\n",
            "  1.43890637e-11 1.68584680e-14 1.89425718e-24 1.81746207e-09\n",
            "  1.92954800e-17 3.43667313e-15 1.15505966e-13 1.44135988e-14\n",
            "  3.16212443e-08 3.39704014e-13 1.00152784e-08 1.16341788e-16\n",
            "  1.91132131e-04 1.03884176e-07 7.39153336e-07 1.00348191e-03\n",
            "  4.85443387e-11 3.03361070e-08 2.41203979e-03 5.25228613e-16\n",
            "  8.54953229e-01 8.38203277e-07 2.30965507e-03]\n",
            " [7.43667664e-16 4.01337975e-15 2.03397450e-23 1.09793112e-20\n",
            "  7.43082444e-26 1.82631981e-23 3.14186138e-20 9.15978252e-28\n",
            "  1.21103818e-25 1.81912742e-26 1.27167113e-27 4.16778354e-03\n",
            "  1.77503166e-16 6.92407129e-26 2.20874077e-25 1.74262589e-24\n",
            "  2.57754113e-36 2.46808351e-32 6.53034848e-10 3.82616118e-12\n",
            "  9.57126600e-10 6.70545035e-07 3.70455666e-07 6.92601698e-10\n",
            "  2.02585775e-02 3.96400783e-03 1.16647270e-08 1.13143406e-08\n",
            "  7.83548444e-08 2.08486774e-04 4.59570037e-06 1.91834312e-10\n",
            "  5.68737530e-20 6.58816664e-12 3.79774567e-09 9.71395493e-01\n",
            "  2.05158965e-08 2.18490870e-09 1.24965873e-15 2.17497618e-27\n",
            "  1.36610688e-18 7.44950072e-26 1.71236496e-25]\n",
            " [3.09745410e-05 1.53970323e-05 7.53346951e-12 7.38304681e-14\n",
            "  1.26353763e-08 5.44976425e-11 9.87620865e-08 7.73584322e-11\n",
            "  1.01008741e-11 3.37715403e-12 5.02891305e-12 1.48925732e-03\n",
            "  1.24969156e-04 2.17630004e-19 5.94386262e-10 1.22075147e-12\n",
            "  4.91495074e-11 2.58198671e-11 2.77669400e-01 2.15710272e-09\n",
            "  8.85133977e-06 2.45852931e-07 2.05679390e-10 2.87100420e-06\n",
            "  1.31136330e-05 5.02696457e-05 7.13195186e-05 1.96564521e-04\n",
            "  1.89148921e-06 2.89791293e-04 5.82815062e-07 1.60249459e-04\n",
            "  4.38844694e-08 1.45754552e-06 3.70186939e-08 1.01891837e-08\n",
            "  4.78895750e-08 1.63367507e-03 8.14208150e-08 8.54497723e-12\n",
            "  7.18238711e-01 5.84897408e-11 2.08063802e-10]\n",
            " [5.63469617e-20 5.00917234e-21 3.68332940e-22 1.34441309e-17\n",
            "  3.40812419e-28 1.80467077e-20 1.13039834e-28 6.57522652e-27\n",
            "  2.26352562e-16 9.30134609e-22 8.54710299e-27 8.85639693e-15\n",
            "  1.43625500e-18 8.06239132e-31 3.99502908e-30 1.76856747e-16\n",
            "  7.08030241e-37 8.30675940e-35 1.27220947e-13 4.82963258e-16\n",
            "  1.16266383e-08 2.29116341e-13 1.11470699e-01 1.97959732e-10\n",
            "  2.32628463e-06 1.15249303e-10 1.02361151e-08 5.38719807e-12\n",
            "  3.12969874e-04 8.88213992e-01 2.82786461e-10 5.15514974e-12\n",
            "  3.07591710e-22 1.78457590e-30 8.12143457e-14 8.61955743e-13\n",
            "  9.30965442e-14 2.89407030e-21 1.96557592e-09 3.61308877e-32\n",
            "  2.85310781e-20 6.51371309e-27 4.51926121e-32]]\n",
            "TopKV2(values=array([[9.9999917e-01, 7.1285638e-07, 9.2349097e-08, 2.0664986e-08,\n",
            "        5.3016831e-09],\n",
            "       [9.9999642e-01, 3.2915625e-06, 2.8188305e-07, 5.0781450e-09,\n",
            "        4.2394062e-09],\n",
            "       [8.5495323e-01, 1.2365925e-01, 1.0745762e-02, 3.3760981e-03,\n",
            "        2.4120398e-03],\n",
            "       [9.7139549e-01, 2.0258578e-02, 4.1677835e-03, 3.9640078e-03,\n",
            "        2.0848677e-04],\n",
            "       [7.1823871e-01, 2.7766940e-01, 1.6336751e-03, 1.4892573e-03,\n",
            "        2.8979129e-04],\n",
            "       [8.8821399e-01, 1.1147070e-01, 3.1296987e-04, 2.3262846e-06,\n",
            "        1.1626638e-08]], dtype=float32), indices=array([[25, 24, 20, 27, 11],\n",
            "       [11, 27, 30, 21, 24],\n",
            "       [40, 17, 12,  7, 38],\n",
            "       [35, 24, 11, 25, 29],\n",
            "       [40, 18, 37, 11, 29],\n",
            "       [29, 22, 28, 24, 20]], dtype=int32))\n"
          ],
          "name": "stdout"
        }
      ]
    },
    {
      "cell_type": "code",
      "metadata": {
        "id": "BkFeAKDSLbV3",
        "colab_type": "code",
        "colab": {}
      },
      "source": [
        ""
      ],
      "execution_count": null,
      "outputs": []
    }
  ]
}