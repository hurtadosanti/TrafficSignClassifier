{
  "nbformat": 4,
  "nbformat_minor": 0,
  "metadata": {
    "kernelspec": {
      "display_name": "Python 3",
      "language": "python",
      "name": "python3"
    },
    "language_info": {
      "codemirror_mode": {
        "name": "ipython",
        "version": 3
      },
      "file_extension": ".py",
      "mimetype": "text/x-python",
      "name": "python",
      "nbconvert_exporter": "python",
      "pygments_lexer": "ipython3",
      "version": "3.6.3"
    },
    "colab": {
      "name": "TrafficSignClassifier.ipynb",
      "provenance": []
    },
    "accelerator": "GPU"
  },
  "cells": [
    {
      "cell_type": "markdown",
      "metadata": {
        "collapsed": false,
        "pycharm": {
          "name": "#%% md\n"
        },
        "id": "XtP1EQlNiWoE",
        "colab_type": "text"
      },
      "source": [
        "# Traffic Sign Recognition Classifier\n",
        "Self-Driving Car Engineer Nanodegree\n",
        "\n",
        "Deep Learning\n",
        "\n",
        "<a href=\"https://colab.research.google.com/github/hurtadosanti/TrafficSignClassifier/blob/master/TrafficSignClassifier.ipynb\" target=\"_parent\"><img src=\"https://colab.research.google.com/assets/colab-badge.svg\" alt=\"Open In Colab\"/></a>\n",
        "\n",
        "https://github.com/udacity/CarND-Traffic-Sign-Classifier-Project/blob/master/Traffic_Sign_Classifier.ipynb\n",
        "\n",
        "## Import packages"
      ]
    },
    {
      "cell_type": "code",
      "metadata": {
        "tags": [],
        "id": "8ir4q3lwxBeV",
        "colab_type": "code",
        "colab": {
          "base_uri": "https://localhost:8080/",
          "height": 34
        },
        "outputId": "947b7ed3-f4a2-491d-e659-4d765ca00117"
      },
      "source": [
        "import numpy as np\n",
        "import pandas as pd\n",
        "import matplotlib.pyplot as plt\n",
        "from random import randint\n",
        "import pickle\n",
        "import os\n",
        "from zipfile import ZipFile\n",
        "from sklearn.utils import shuffle\n",
        "from skimage import data, color\n",
        "from skimage.transform import rotate, rescale, resize\n",
        "from skimage.util import random_noise\n",
        "from PIL import Image\n",
        "\n",
        "%tensorflow_version 1.x\n",
        "\n",
        "import tensorflow as tf\n",
        "from tensorflow.contrib.layers import flatten\n",
        "\n",
        "%matplotlib inline\n"
      ],
      "execution_count": 1,
      "outputs": [
        {
          "output_type": "stream",
          "text": [
            "TensorFlow 1.x selected.\n"
          ],
          "name": "stdout"
        }
      ]
    },
    {
      "cell_type": "markdown",
      "metadata": {
        "pycharm": {
          "name": "#%% md\n"
        },
        "id": "jhuoAmosxBem",
        "colab_type": "text"
      },
      "source": [
        "## Load Data"
      ]
    },
    {
      "cell_type": "code",
      "metadata": {
        "tags": [],
        "id": "vN960anwxBen",
        "colab_type": "code",
        "colab": {
          "base_uri": "https://localhost:8080/",
          "height": 416
        },
        "outputId": "4286bc67-8f31-411c-be21-2f789faad3e7"
      },
      "source": [
        "path = '/tmp/'\n",
        "traffic_signs_file = 'traffic-signs-data.zip'\n",
        "!wget --no-check-certificate \\\n",
        "    https://s3-us-west-1.amazonaws.com/udacity-selfdrivingcar/traffic-signs-data.zip \\\n",
        "    -O /tmp/traffic-signs-data.zip\n",
        "\n",
        "!wget --no-check-certificate \\\n",
        "    https://raw.githubusercontent.com/udacity/CarND-Traffic-Sign-Classifier-Project/master/signnames.csv\n",
        "\n",
        "with ZipFile(path+traffic_signs_file, 'r') as zipObj:\n",
        "   zipObj.extractall(path)\n",
        "   print('Finish extracting')"
      ],
      "execution_count": 2,
      "outputs": [
        {
          "output_type": "stream",
          "text": [
            "--2020-09-25 12:56:22--  https://s3-us-west-1.amazonaws.com/udacity-selfdrivingcar/traffic-signs-data.zip\n",
            "Resolving s3-us-west-1.amazonaws.com (s3-us-west-1.amazonaws.com)... 52.219.112.64\n",
            "Connecting to s3-us-west-1.amazonaws.com (s3-us-west-1.amazonaws.com)|52.219.112.64|:443... connected.\n",
            "HTTP request sent, awaiting response... 200 OK\n",
            "Length: 123524425 (118M) [application/zip]\n",
            "Saving to: ‘/tmp/traffic-signs-data.zip’\n",
            "\n",
            "/tmp/traffic-signs- 100%[===================>] 117.80M  45.3MB/s    in 2.6s    \n",
            "\n",
            "2020-09-25 12:56:25 (45.3 MB/s) - ‘/tmp/traffic-signs-data.zip’ saved [123524425/123524425]\n",
            "\n",
            "--2020-09-25 12:56:26--  https://raw.githubusercontent.com/udacity/CarND-Traffic-Sign-Classifier-Project/master/signnames.csv\n",
            "Resolving raw.githubusercontent.com (raw.githubusercontent.com)... 151.101.0.133, 151.101.64.133, 151.101.128.133, ...\n",
            "Connecting to raw.githubusercontent.com (raw.githubusercontent.com)|151.101.0.133|:443... connected.\n",
            "HTTP request sent, awaiting response... 200 OK\n",
            "Length: 999 [text/plain]\n",
            "Saving to: ‘signnames.csv’\n",
            "\n",
            "signnames.csv       100%[===================>]     999  --.-KB/s    in 0s      \n",
            "\n",
            "2020-09-25 12:56:26 (52.9 MB/s) - ‘signnames.csv’ saved [999/999]\n",
            "\n",
            "Finish extracting\n"
          ],
          "name": "stdout"
        }
      ]
    },
    {
      "cell_type": "code",
      "metadata": {
        "tags": [],
        "id": "xbBfNmxSxBet",
        "colab_type": "code",
        "colab": {}
      },
      "source": [
        "train = pickle.load(open(path+\"train.p\", 'rb'))\n",
        "valid=pickle.load(open(path+\"valid.p\", 'rb'))\n",
        "test = pickle.load(open(path+\"test.p\", 'rb'))\n",
        "X_train, y_train = train['features'], train['labels']\n",
        "X_valid, y_valid = valid['features'], valid['labels']\n",
        "X_test, y_test = test['features'], test['labels']\n",
        "# Verify that the data is complete\n",
        "assert(len(X_train)==len(y_train))\n",
        "assert(len(X_valid)==len(y_valid))\n",
        "assert(len(X_test)==len(y_test))"
      ],
      "execution_count": 3,
      "outputs": []
    },
    {
      "cell_type": "markdown",
      "metadata": {
        "collapsed": false,
        "pycharm": {
          "name": "#%% md\n"
        },
        "id": "tJ36p11KiWoa",
        "colab_type": "text"
      },
      "source": [
        "## Data Summary and exploration"
      ]
    },
    {
      "cell_type": "code",
      "metadata": {
        "pycharm": {
          "name": "#%%\n"
        },
        "id": "3RCTZj7qiWob",
        "colab_type": "code",
        "colab": {
          "base_uri": "https://localhost:8080/",
          "height": 434
        },
        "outputId": "a8c1e8ef-2100-4e98-cbf7-9d62eeba2b9e"
      },
      "source": [
        "# Data Size\n",
        "print('Training set samples:\\t',len(X_train))\n",
        "print('Validation set samples:\\t',len(X_valid))\n",
        "print('Test set samples:\\t',len(X_test))\n",
        "# Sign names labels\n",
        "sign_names = pd.read_csv('signnames.csv')\n",
        "print('\\nMetrics\\n-------------')\n",
        "print(sign_names.describe())\n",
        "print('\\nSamples\\n-------------')\n",
        "print(sign_names.head())"
      ],
      "execution_count": 12,
      "outputs": [
        {
          "output_type": "stream",
          "text": [
            "Training set samples:\t 34799\n",
            "Validation set samples:\t 4410\n",
            "Test set samples:\t 12630\n",
            "\n",
            "Metrics\n",
            "-------------\n",
            "         ClassId\n",
            "count  43.000000\n",
            "mean   21.000000\n",
            "std    12.556539\n",
            "min     0.000000\n",
            "25%    10.500000\n",
            "50%    21.000000\n",
            "75%    31.500000\n",
            "max    42.000000\n",
            "\n",
            "Samples\n",
            "-------------\n",
            "   ClassId              SignName\n",
            "0        0  Speed limit (20km/h)\n",
            "1        1  Speed limit (30km/h)\n",
            "2        2  Speed limit (50km/h)\n",
            "3        3  Speed limit (60km/h)\n",
            "4        4  Speed limit (70km/h)\n"
          ],
          "name": "stdout"
        }
      ]
    },
    {
      "cell_type": "markdown",
      "metadata": {
        "collapsed": false,
        "pycharm": {
          "name": "#%% md\n"
        },
        "id": "geyiuAnniWog",
        "colab_type": "text"
      },
      "source": [
        "### Random Samples"
      ]
    },
    {
      "cell_type": "code",
      "metadata": {
        "pycharm": {
          "name": "#%%\n"
        },
        "id": "DyQA65oLiWoh",
        "colab_type": "code",
        "colab": {
          "base_uri": "https://localhost:8080/",
          "height": 225
        },
        "outputId": "769876e5-e664-4215-e44f-ebc1b2214df3"
      },
      "source": [
        "# Random signs from the Y data\n",
        "results = list(np.random.permutation(np.arange(0,y_test.shape[0])))\n",
        "print('Sample\\tSign id\\tName\\n-----------')\n",
        "for i in results[:10]:\n",
        "    sign_index = y_train[i]\n",
        "    print(f'{i}\\t{sign_index}\\t{sign_names.at[sign_index,\"SignName\"]}')"
      ],
      "execution_count": 17,
      "outputs": [
        {
          "output_type": "stream",
          "text": [
            "Sample\tSign id\tName\n",
            "-----------\n",
            "5886\t3\tSpeed limit (60km/h)\n",
            "5182\t16\tVehicles over 3.5 metric tons prohibited\n",
            "6452\t3\tSpeed limit (60km/h)\n",
            "9113\t11\tRight-of-way at the next intersection\n",
            "3407\t1\tSpeed limit (30km/h)\n",
            "12010\t9\tNo passing\n",
            "5821\t3\tSpeed limit (60km/h)\n",
            "6124\t3\tSpeed limit (60km/h)\n",
            "4706\t22\tBumpy road\n",
            "7955\t4\tSpeed limit (70km/h)\n"
          ],
          "name": "stdout"
        }
      ]
    },
    {
      "cell_type": "code",
      "metadata": {
        "pycharm": {
          "name": "#%%\n"
        },
        "id": "yKf0ujv4iWom",
        "colab_type": "code",
        "colab": {
          "base_uri": "https://localhost:8080/",
          "height": 860
        },
        "outputId": "3c98bc64-33e8-4ef0-d540-93ab54378f20"
      },
      "source": [
        "# Random signs images and the correspondent name\n",
        "fig, axes = plt.subplots(5,5, figsize=(15,15))\n",
        "results = list(np.random.permutation(np.arange(0,y_test.shape[0])))\n",
        "for i,ax in  enumerate(axes.flat):\n",
        "    pos = results[i]\n",
        "    sign_index = y_train[pos]\n",
        "    ax.set_title(sign_names.at[sign_index,'SignName'],fontsize=10)\n",
        "    ax.imshow(X_train[pos])\n",
        "    ax.set_axis_off()"
      ],
      "execution_count": 18,
      "outputs": [
        {
          "output_type": "display_data",
          "data": {
            "image/png": "[encoded data removed]",
            "text/plain": [
              "<Figure size 1080x1080 with 25 Axes>"
            ]
          },
          "metadata": {
            "tags": [],
            "needs_background": "light"
          }
        }
      ]
    },
    {
      "cell_type": "markdown",
      "metadata": {
        "collapsed": false,
        "pycharm": {
          "name": "#%% md\n"
        },
        "id": "AZWvzf1TiWot",
        "colab_type": "text"
      },
      "source": [
        "## Data distribution"
      ]
    },
    {
      "cell_type": "code",
      "metadata": {
        "pycharm": {
          "name": "#%%\n"
        },
        "id": "ZmmDX71kxBfC",
        "colab_type": "code",
        "colab": {
          "base_uri": "https://localhost:8080/",
          "height": 439
        },
        "outputId": "cd0b0e2e-ac7c-47eb-cd17-9d41e0db46c6"
      },
      "source": [
        "# Describe test Y data\n",
        "df_y_test = pd.DataFrame(y_test)\n",
        "print(df_y_test.describe())\n",
        "df_y_test.plot.hist()"
      ],
      "execution_count": 19,
      "outputs": [
        {
          "output_type": "stream",
          "text": [
            "                  0\n",
            "count  12630.000000\n",
            "mean      15.551069\n",
            "std       11.947123\n",
            "min        0.000000\n",
            "25%        5.000000\n",
            "50%       12.000000\n",
            "75%       25.000000\n",
            "max       42.000000\n"
          ],
          "name": "stdout"
        },
        {
          "output_type": "execute_result",
          "data": {
            "text/plain": [
              "<matplotlib.axes._subplots.AxesSubplot at 0x7fde80953630>"
            ]
          },
          "metadata": {
            "tags": []
          },
          "execution_count": 19
        },
        {
          "output_type": "display_data",
          "data": {
            "image/png": "[encoded data removed]",
            "text/plain": [
              "<Figure size 432x288 with 1 Axes>"
            ]
          },
          "metadata": {
            "tags": [],
            "needs_background": "light"
          }
        }
      ]
    },
    {
      "cell_type": "markdown",
      "metadata": {
        "collapsed": false,
        "pycharm": {
          "name": "#%% md\n"
        },
        "id": "Hp88q-cziWoy",
        "colab_type": "text"
      },
      "source": [
        "## Data preprocessing"
      ]
    },
    {
      "cell_type": "code",
      "metadata": {
        "pycharm": {
          "name": "#%%\n"
        },
        "id": "ZMECseMCxBfR",
        "colab_type": "code",
        "colab": {}
      },
      "source": [
        "def convert_gray(images):\n",
        "    gray = []\n",
        "    for i,img in enumerate(images):\n",
        "        gray_image = color.rgb2grey(img)\n",
        "        new_row = np.reshape(gray_image,gray_image.shape+(1,))\n",
        "        gray.append(new_row)\n",
        "    result = np.array(gray)\n",
        "    del gray\n",
        "    return result\n",
        "\n",
        "def augment_data_set(images,labels,angle):\n",
        "    augmented_list = []\n",
        "    label_list = []\n",
        "    for i,img in enumerate(images):\n",
        "      augmented_list.append(rotate(img,angle))\n",
        "      augmented_list.append(rotate(img,angle*-1))\n",
        "      augmented_list.append(random_noise(img))\n",
        "      label_list.append(labels[i])\n",
        "      label_list.append(labels[i])\n",
        "      label_list.append(labels[i])\n",
        "    res_rotated = np.array(augmented_list)\n",
        "    res_label = np.array(label_list)\n",
        "    del augmented_list\n",
        "    del label_list\n",
        "    return res_rotated,res_label"
      ],
      "execution_count": 20,
      "outputs": []
    },
    {
      "cell_type": "code",
      "metadata": {
        "id": "14r7so-qZvTE",
        "colab_type": "code",
        "pycharm": {
          "name": "#%%\n"
        },
        "colab": {}
      },
      "source": [
        "X_train_normalized = X_train/255.0\n",
        "X_valid_normalized = X_valid/255.0\n",
        "#X_train_gray = np.sum(X_train_normalized/3, axis=3, keepdims=True)\n",
        "X_train_gray = convert_gray(X_train_normalized)\n",
        "X_valid_gray = convert_gray(X_valid_normalized)\n",
        "#X_valid_gray = np.sum(X_valid_normalized/3, axis=3, keepdims=True)"
      ],
      "execution_count": 21,
      "outputs": []
    },
    {
      "cell_type": "code",
      "metadata": {
        "id": "T7_9wNalZ5eg",
        "colab_type": "code",
        "colab": {
          "base_uri": "https://localhost:8080/",
          "height": 52
        },
        "outputId": "6ed0aca8-1469-4366-c982-d98a6f3b1777"
      },
      "source": [
        "augmented_images,augmented_labels = augment_data_set(X_train_gray,y_train,15)\n",
        "print('augmented data',augmented_images.shape,augmented_labels.shape)\n",
        "assert len(augmented_images)==len(augmented_labels)\n",
        "X_train_augmented = np.concatenate((X_train_gray,augmented_images),axis=0)\n",
        "y_train_augmented = np.concatenate((y_train,augmented_labels),axis=0)\n",
        "\n",
        "print('complete data',X_train_augmented.shape,y_train_augmented.shape)\n",
        "assert len(X_train_augmented)==len(y_train_augmented)"
      ],
      "execution_count": 22,
      "outputs": [
        {
          "output_type": "stream",
          "text": [
            "augmented data (104397, 32, 32, 1) (104397,)\n",
            "complete data (139196, 32, 32, 1) (139196,)\n"
          ],
          "name": "stdout"
        }
      ]
    },
    {
      "cell_type": "code",
      "metadata": {
        "id": "Cjx7Qr5Zb0HI",
        "colab_type": "code",
        "colab": {}
      },
      "source": [
        "X_train_shuffle, y_train_shuffle  = shuffle(X_train_augmented, y_train_augmented)"
      ],
      "execution_count": 23,
      "outputs": []
    },
    {
      "cell_type": "markdown",
      "metadata": {
        "id": "JwyhaMmBaxIM",
        "colab_type": "text",
        "pycharm": {
          "name": "#%% md\n"
        }
      },
      "source": [
        "## Training\n",
        "### Network Architecture"
      ]
    },
    {
      "cell_type": "code",
      "metadata": {
        "pycharm": {
          "name": "#%%\n"
        },
        "id": "V7ZnVMiSxBfV",
        "colab_type": "code",
        "colab": {}
      },
      "source": [
        "def LeNet(x,dropout):\n",
        "    mu = 0\n",
        "    sigma = 0.1\n",
        "    conv1_W = tf.Variable(tf.truncated_normal(shape=(5, 5, 1, 16), mean = mu, stddev = sigma))\n",
        "    conv1_b = tf.Variable(tf.zeros(16))\n",
        "    # Convolution 1 and max_pool\n",
        "    conv1   = tf.nn.conv2d(x, conv1_W, strides=[1, 1, 1, 1], padding='VALID') + conv1_b\n",
        "    conv1 = tf.nn.relu(conv1)\n",
        "    conv1 = tf.nn.max_pool(conv1, ksize=[1, 2, 2, 1], strides=[1, 2, 2, 1], padding='VALID')\n",
        "    #print(conv1.shape)\n",
        "\n",
        "    conv2_W = tf.Variable(tf.truncated_normal(shape=(5, 5, 16, 32), mean = mu, stddev = sigma))\n",
        "    conv2_b = tf.Variable(tf.zeros(32))\n",
        "    # Convolution 2 and max_pool\n",
        "    conv2   = tf.nn.conv2d(conv1, conv2_W, strides=[1, 1, 1, 1], padding='VALID') + conv2_b\n",
        "    conv2 = tf.nn.relu(conv2)\n",
        "    conv2 = tf.nn.max_pool(conv2, ksize=[1, 2, 2, 1], strides=[1, 2, 2, 1], padding='VALID')\n",
        "\n",
        "    #print(conv2.shape)\n",
        "    # Flatten last convolution\n",
        "    fc0   = flatten(conv2)\n",
        "    fc0   = tf.nn.dropout(fc0, dropout)\n",
        "    #print(fc0.shape)\n",
        "    fc1_W = tf.Variable(tf.truncated_normal(shape=(800, 120), mean = mu, stddev = sigma))\n",
        "    fc1_b = tf.Variable(tf.zeros(120))\n",
        "    fc1   = tf.matmul(fc0, fc1_W) + fc1_b\n",
        "    fc1   = tf.nn.relu(fc1)\n",
        "\n",
        "    fc2_W  = tf.Variable(tf.truncated_normal(shape=(120, 43), mean = mu, stddev = sigma))\n",
        "    fc2_b  = tf.Variable(tf.zeros(43))\n",
        "    #print(fc1.shape,fc2_W.shape,fc2_b.shape)\n",
        "    logits = tf.matmul(fc1, fc2_W) + fc2_b\n",
        "    return logits"
      ],
      "execution_count": 24,
      "outputs": []
    },
    {
      "cell_type": "markdown",
      "metadata": {
        "collapsed": false,
        "pycharm": {
          "name": "#%% md\n"
        },
        "id": "EQrHt-1eiWpK",
        "colab_type": "text"
      },
      "source": [
        "### Prepare the model"
      ]
    },
    {
      "cell_type": "code",
      "metadata": {
        "pycharm": {
          "name": "#%%\n"
        },
        "id": "1UkE2x3MiWpL",
        "colab_type": "code",
        "colab": {
          "base_uri": "https://localhost:8080/",
          "height": 384
        },
        "outputId": "6077d842-cea6-495e-ffa3-ff05cb851935"
      },
      "source": [
        "x = tf.placeholder(tf.float32, (None, 32, 32, 1))\n",
        "y = tf.placeholder(tf.int32, (None))\n",
        "keep_prob = tf.placeholder(tf.float32)\n",
        "one_hot_y = tf.one_hot(y, 43)\n",
        "rate = 0.0005\n",
        "dropout = 0.4\n",
        "logits = LeNet(x,keep_prob)\n",
        "cross_entropy = tf.nn.softmax_cross_entropy_with_logits(labels=one_hot_y, logits=logits)\n",
        "loss_operation = tf.reduce_mean(cross_entropy)\n",
        "optimizer = tf.train.AdamOptimizer(learning_rate = rate)\n",
        "training_operation = optimizer.minimize(loss_operation)"
      ],
      "execution_count": 25,
      "outputs": [
        {
          "output_type": "stream",
          "text": [
            "(?, 14, 14, 16)\n",
            "(?, 5, 5, 32)\n",
            "WARNING:tensorflow:From /tensorflow-1.15.2/python3.6/tensorflow_core/contrib/layers/python/layers/layers.py:1634: flatten (from tensorflow.python.layers.core) is deprecated and will be removed in a future version.\n",
            "Instructions for updating:\n",
            "Use keras.layers.flatten instead.\n",
            "WARNING:tensorflow:From /tensorflow-1.15.2/python3.6/tensorflow_core/python/layers/core.py:332: Layer.apply (from tensorflow.python.keras.engine.base_layer) is deprecated and will be removed in a future version.\n",
            "Instructions for updating:\n",
            "Please use `layer.__call__` method instead.\n",
            "WARNING:tensorflow:From <ipython-input-24-d6d578c65978>:22: calling dropout (from tensorflow.python.ops.nn_ops) with keep_prob is deprecated and will be removed in a future version.\n",
            "Instructions for updating:\n",
            "Please use `rate` instead of `keep_prob`. Rate should be set to `rate = 1 - keep_prob`.\n",
            "(?, 800)\n",
            "WARNING:tensorflow:From <ipython-input-25-6761ec017dff>:8: softmax_cross_entropy_with_logits (from tensorflow.python.ops.nn_ops) is deprecated and will be removed in a future version.\n",
            "Instructions for updating:\n",
            "\n",
            "Future major versions of TensorFlow will allow gradients to flow\n",
            "into the labels input on backprop by default.\n",
            "\n",
            "See `tf.nn.softmax_cross_entropy_with_logits_v2`.\n",
            "\n"
          ],
          "name": "stdout"
        }
      ]
    },
    {
      "cell_type": "markdown",
      "metadata": {
        "id": "pX8vOYy-bI_l",
        "colab_type": "text",
        "pycharm": {
          "name": "#%% md\n"
        }
      },
      "source": [
        "### Execute the training\n",
        "We stop when accuracy is over 0.95"
      ]
    },
    {
      "cell_type": "code",
      "metadata": {
        "pycharm": {
          "name": "#%%\n"
        },
        "id": "r05AK1AgiWpP",
        "colab_type": "code",
        "colab": {
          "base_uri": "https://localhost:8080/",
          "height": 399
        },
        "outputId": "bc83ce7d-2697-4ca8-b6ca-ade58e30eb04"
      },
      "source": [
        "BATCH_SIZE=128\n",
        "EPOCHS=15\n",
        "\n",
        "correct_prediction = tf.equal(tf.argmax(logits, 1), tf.argmax(one_hot_y, 1))\n",
        "accuracy_operation = tf.reduce_mean(tf.cast(correct_prediction, tf.float32))\n",
        "saver = tf.train.Saver()\n",
        "def evaluate(X_data, y_data):\n",
        "    examples = len(X_data)\n",
        "    total_accuracy = 0\n",
        "    sess = tf.get_default_session()\n",
        "    for eval_offset in range(0, examples, BATCH_SIZE):\n",
        "        eval_batch_x, eval_batch_y = X_data[eval_offset:eval_offset+BATCH_SIZE], y_data[eval_offset:eval_offset+BATCH_SIZE]\n",
        "        accuracy = sess.run(accuracy_operation, feed_dict={x: eval_batch_x,\n",
        "                                                           y: eval_batch_y,\n",
        "                                                           keep_prob: 1.})\n",
        "        total_accuracy += (accuracy * len(eval_batch_x))\n",
        "    return total_accuracy / examples\n",
        "\n",
        "with tf.Session() as sess:\n",
        "    sess.run(tf.global_variables_initializer())\n",
        "    num_examples = len(X_train_shuffle)\n",
        "\n",
        "    print(\"Training...\")\n",
        "    print()\n",
        "    for i in range(EPOCHS):\n",
        "        X_train_shuffle, y_train_shuffle = shuffle(X_train_shuffle, y_train_shuffle)\n",
        "        for offset in range(0, num_examples, BATCH_SIZE):\n",
        "            end = offset + BATCH_SIZE\n",
        "            batch_x, batch_y = X_train_shuffle[offset:end], y_train_shuffle[offset:end]\n",
        "            sess.run(training_operation, feed_dict={x: batch_x,\n",
        "                                                    y: batch_y,\n",
        "                                                    keep_prob: dropout})\n",
        "\n",
        "        validation_accuracy = evaluate(X_valid_gray, y_valid)\n",
        "        print(\"EPOCH {} ...\".format(i+1))\n",
        "        print(\"Validation Accuracy = {:.3f}\".format(validation_accuracy))\n",
        "        print()\n",
        "        if validation_accuracy > 0.95:\n",
        "            print(f'We made it with :{validation_accuracy}')\n",
        "            saver.save(sess, './lenet')\n",
        "            print(\"Model saved\")\n",
        "            break\n",
        "    \n",
        "    "
      ],
      "execution_count": 26,
      "outputs": [
        {
          "output_type": "stream",
          "text": [
            "Training...\n",
            "\n",
            "EPOCH 1 ...\n",
            "Validation Accuracy = 0.848\n",
            "\n",
            "EPOCH 2 ...\n",
            "Validation Accuracy = 0.901\n",
            "\n",
            "EPOCH 3 ...\n",
            "Validation Accuracy = 0.924\n",
            "\n",
            "EPOCH 4 ...\n",
            "Validation Accuracy = 0.942\n",
            "\n",
            "EPOCH 5 ...\n",
            "Validation Accuracy = 0.946\n",
            "\n",
            "EPOCH 6 ...\n",
            "Validation Accuracy = 0.953\n",
            "\n",
            "We made it with :0.9526077100208827\n",
            "Model saved\n"
          ],
          "name": "stdout"
        }
      ]
    },
    {
      "cell_type": "markdown",
      "metadata": {
        "collapsed": false,
        "pycharm": {
          "name": "#%% md\n"
        },
        "id": "EuBfciLciWpR",
        "colab_type": "text"
      },
      "source": [
        "## Test the model"
      ]
    },
    {
      "cell_type": "code",
      "metadata": {
        "id": "yrVsW3jkwMX8",
        "colab_type": "code",
        "colab": {
          "base_uri": "https://localhost:8080/",
          "height": 52
        },
        "outputId": "9332188b-b2d3-4edc-d7c5-7a4073ff340f"
      },
      "source": [
        "X_test_normalized = X_test/255.0\n",
        "#X_train_gray = np.sum(X_train_normalized/3, axis=3, keepdims=True)\n",
        "X_test_gray = convert_gray(X_test_normalized)\n",
        "with tf.Session() as sess:\n",
        "    saver.restore(sess, tf.train.latest_checkpoint('.'))\n",
        "\n",
        "    test_accuracy = evaluate(X_test_gray, y_test)\n",
        "    print(\"Test Accuracy = {:.3f}\".format(test_accuracy))"
      ],
      "execution_count": 27,
      "outputs": [
        {
          "output_type": "stream",
          "text": [
            "INFO:tensorflow:Restoring parameters from ./lenet\n",
            "Test Accuracy = 0.937\n"
          ],
          "name": "stdout"
        }
      ]
    },
    {
      "cell_type": "markdown",
      "metadata": {
        "id": "ov3ekmA5z3JE",
        "colab_type": "text"
      },
      "source": [
        "## Custom Images\n",
        "https://pixabay.com/users/germany_photography-6756679/?utm_source=link-attribution&utm_medium=referral&utm_campaign=image&utm_content=3875456\n",
        "https://pixy.org/415856/\n",
        "https://www.flickr.com/photos/frank_wuestefeld/4464258741\n",
        "https://pixabay.com/vectors/traffic-sign-sign-160673/\n",
        "### Read images into a numpy array to be tested"
      ]
    },
    {
      "cell_type": "code",
      "metadata": {
        "id": "1YwcEZ5TWzAI",
        "colab_type": "code",
        "colab": {
          "base_uri": "https://localhost:8080/",
          "height": 34
        },
        "outputId": "642ba915-21fb-4e5f-b4e8-a65c27ebf18a"
      },
      "source": [
        "with ZipFile('validate.zip', 'r') as zipObj:\n",
        "   zipObj.extractall('./')\n",
        "   print('Finish extracting')"
      ],
      "execution_count": 30,
      "outputs": [
        {
          "output_type": "stream",
          "text": [
            "Finish extracting\n"
          ],
          "name": "stdout"
        }
      ]
    },
    {
      "cell_type": "code",
      "metadata": {
        "id": "8rIR0zudwEcR",
        "colab_type": "code",
        "colab": {
          "base_uri": "https://localhost:8080/",
          "height": 139
        },
        "outputId": "d3a84302-3c61-4839-b15a-1215e88f6698"
      },
      "source": [
        "# Get all the jpg images on the folder and rescale\n",
        "test_images = []\n",
        "test_labels = []\n",
        "for f in os.listdir('./validate'):\n",
        "  if f.endswith('.jpg'):\n",
        "    print(f'image read:\\t{f}')\n",
        "    img = Image.open('./validate/'+f)\n",
        "    img = np.asarray(img)\n",
        "    test_images.append(resize(img,(32,32)))\n",
        "    test_labels.append(f[3:5])\n",
        "test_images = np.asarray(test_images)/255.0\n",
        "test_images.shape\n",
        "test_gray_images = convert_gray(test_images)\n",
        "test_labels = np.asarray(test_labels)\n",
        "print(test_gray_images.shape,test_labels.shape)"
      ],
      "execution_count": 43,
      "outputs": [
        {
          "output_type": "stream",
          "text": [
            "image read:02-28_Children_crossing.jpg\n",
            "image read:03-11_Right-of-way_at_the_next_intersection.jpg\n",
            "image read:05-27_Pedestrians.jpg\n",
            "image read:01-40_Roundabout_mandatory.jpg\n",
            "image read:04-23_Slippery_road.jpg\n",
            "image read:06-25_Road_work.jpg\n",
            "(6, 32, 32, 1) (6,)\n"
          ],
          "name": "stdout"
        }
      ]
    },
    {
      "cell_type": "code",
      "metadata": {
        "id": "R5LvghJ0Yu6a",
        "colab_type": "code",
        "colab": {
          "base_uri": "https://localhost:8080/",
          "height": 52
        },
        "outputId": "80d29042-eec1-491d-9981-7df44e33f88d"
      },
      "source": [
        "with tf.Session() as sess:\n",
        "    saver.restore(sess, tf.train.latest_checkpoint('.'))\n",
        "    test_accuracy = evaluate(test_gray_images, test_labels)\n",
        "    print(\"Test Accuracy = {:.3f}\".format(test_accuracy))"
      ],
      "execution_count": 45,
      "outputs": [
        {
          "output_type": "stream",
          "text": [
            "INFO:tensorflow:Restoring parameters from ./lenet\n",
            "Test Accuracy = 0.000\n"
          ],
          "name": "stdout"
        }
      ]
    },
    {
      "cell_type": "code",
      "metadata": {
        "id": "AWiSAmocZEfA",
        "colab_type": "code",
        "colab": {
          "base_uri": "https://localhost:8080/",
          "height": 283
        },
        "outputId": "8a889c17-06a1-4216-dc04-4dfa0459abce"
      },
      "source": [
        "plt.imshow(test_images[0])"
      ],
      "execution_count": 46,
      "outputs": [
        {
          "output_type": "execute_result",
          "data": {
            "text/plain": [
              "<matplotlib.image.AxesImage at 0x7fde2bd9d9e8>"
            ]
          },
          "metadata": {
            "tags": []
          },
          "execution_count": 46
        },
        {
          "output_type": "display_data",
          "data": {
            "image/png": "[encoded data removed]",
            "text/plain": [
              "<Figure size 432x288 with 1 Axes>"
            ]
          },
          "metadata": {
            "tags": [],
            "needs_background": "light"
          }
        }
      ]
    },
    {
      "cell_type": "markdown",
      "metadata": {
        "id": "-xU1IC7nwHAL",
        "colab_type": "text"
      },
      "source": [
        "# Output Top 5 Softmax Probabilities For Each Image Found on the Web"
      ]
    },
    {
      "cell_type": "code",
      "metadata": {
        "id": "lk86U-HSzSxH",
        "colab_type": "code",
        "colab": {
          "base_uri": "https://localhost:8080/",
          "height": 578
        },
        "outputId": "9c308684-0ea0-4174-c592-3c9eaccb8778"
      },
      "source": [
        "softmax_logits = tf.nn.softmax(logits)\n",
        "top_k = tf.nn.top_k(softmax_logits, k=5)\n",
        "with tf.Session() as sess:\n",
        "    sess.run(tf.global_variables_initializer())\n",
        "    saver.restore(sess, tf.train.latest_checkpoint('.'))\n",
        "    session_softmax_logits = sess.run(softmax_logits, feed_dict={x: X_test_gray,\n",
        "                                                                 keep_prob: 1.0})\n",
        "    session_top_k = sess.run(top_k, feed_dict={x: X_test_gray, keep_prob: 1.0})\n",
        "    print(session_softmax_logits)\n",
        "    print(session_top_k)"
      ],
      "execution_count": null,
      "outputs": [
        {
          "output_type": "stream",
          "text": [
            "INFO:tensorflow:Restoring parameters from ./lenet\n",
            "[[4.3362439e-19 1.1945073e-16 3.1777516e-22 ... 3.3319731e-13\n",
            "  6.4456395e-14 2.6562968e-14]\n",
            " [7.8764009e-05 9.9991536e-01 1.1612805e-07 ... 1.0249275e-10\n",
            "  1.2138475e-12 3.3477728e-11]\n",
            " [4.0671672e-22 2.0912196e-22 1.3957401e-20 ... 2.0725844e-18\n",
            "  7.0932149e-19 4.9288172e-25]\n",
            " ...\n",
            " [7.8900186e-05 4.1995928e-02 8.5716182e-03 ... 3.1135974e-06\n",
            "  3.6430138e-05 9.6434369e-06]\n",
            " [1.7215592e-06 1.1472662e-03 3.2068891e-03 ... 7.7357654e-05\n",
            "  1.6207879e-06 7.7423865e-05]\n",
            " [4.6206598e-08 1.2287184e-06 2.9099829e-05 ... 6.6557906e-05\n",
            "  1.5437315e-07 7.6148859e-07]]\n",
            "TopKV2(values=array([[1.0000000e+00, 2.3605340e-09, 2.3116572e-12, 3.3319731e-13,\n",
            "        6.4456395e-14],\n",
            "       [9.9991536e-01, 7.8764009e-05, 3.5852861e-06, 1.7018816e-06,\n",
            "        4.2548788e-07],\n",
            "       [1.0000000e+00, 1.2049030e-12, 1.0682930e-13, 1.3501056e-14,\n",
            "        1.7714184e-16],\n",
            "       ...,\n",
            "       [7.3945904e-01, 1.4033194e-01, 4.1995928e-02, 2.1871831e-02,\n",
            "        1.9911714e-02],\n",
            "       [8.5452151e-01, 6.4054251e-02, 5.0651062e-02, 9.7150281e-03,\n",
            "        6.1587184e-03],\n",
            "       [9.8402816e-01, 1.3960513e-02, 7.3272269e-04, 3.2285447e-04,\n",
            "        2.8262398e-04]], dtype=float32), indices=array([[16,  9,  7, 40, 41],\n",
            "       [ 1,  0,  5,  6,  4],\n",
            "       [38, 34, 36, 20, 10],\n",
            "       ...,\n",
            "       [ 3,  5,  1, 32,  8],\n",
            "       [ 7,  5,  8,  4,  3],\n",
            "       [10,  9,  4, 37, 17]], dtype=int32))\n"
          ],
          "name": "stdout"
        }
      ]
    },
    {
      "cell_type": "code",
      "metadata": {
        "id": "_2Loxv5EzbiF",
        "colab_type": "code",
        "colab": {}
      },
      "source": [
        ""
      ],
      "execution_count": null,
      "outputs": []
    }
  ]
}