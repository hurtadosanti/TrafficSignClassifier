{
  "nbformat": 4,
  "nbformat_minor": 0,
  "metadata": {
    "kernelspec": {
      "display_name": "Python 3",
      "language": "python",
      "name": "python3"
    },
    "language_info": {
      "codemirror_mode": {
        "name": "ipython",
        "version": 3
      },
      "file_extension": ".py",
      "mimetype": "text/x-python",
      "name": "python",
      "nbconvert_exporter": "python",
      "pygments_lexer": "ipython3",
      "version": "3.6.3"
    },
    "colab": {
      "name": "TrafficSignClassifier.ipynb",
      "provenance": [],
      "include_colab_link": true
    },
    "accelerator": "GPU"
  },
  "cells": [
    {
      "cell_type": "markdown",
      "metadata": {
        "id": "view-in-github",
        "colab_type": "text"
      },
      "source": [
        "<a href=\"https://colab.research.google.com/github/hurtadosanti/TrafficSignClassifier/blob/master/TrafficSignClassifier.ipynb\" target=\"_parent\"><img src=\"https://colab.research.google.com/assets/colab-badge.svg\" alt=\"Open In Colab\"/></a>"
      ]
    },
    {
      "cell_type": "code",
      "metadata": {
        "tags": [],
        "id": "8ir4q3lwxBeV",
        "colab_type": "code",
        "colab": {
          "base_uri": "https://localhost:8080/",
          "height": 34
        },
        "outputId": "815fd8d2-c648-4020-d71e-d678706c89ad"
      },
      "source": [
        "import numpy as np\n",
        "import pandas as pd\n",
        "import matplotlib.pyplot as plt\n",
        "from random import randint\n",
        "import pickle\n",
        "import os\n",
        "from zipfile import ZipFile\n",
        "from skimage import data, color\n",
        "from skimage.transform import rescale, resize, downscale_local_mean\n",
        "%matplotlib inline\n",
        "%tensorflow_version 1.x"
      ],
      "execution_count": 1,
      "outputs": [
        {
          "output_type": "stream",
          "text": [
            "TensorFlow 1.x selected.\n"
          ],
          "name": "stdout"
        }
      ]
    },
    {
      "cell_type": "markdown",
      "metadata": {
        "pycharm": {
          "name": "#%% md\n"
        },
        "id": "jhuoAmosxBem",
        "colab_type": "text"
      },
      "source": [
        "## Load Data"
      ]
    },
    {
      "cell_type": "code",
      "metadata": {
        "tags": [],
        "id": "vN960anwxBen",
        "colab_type": "code",
        "colab": {
          "base_uri": "https://localhost:8080/",
          "height": 408
        },
        "outputId": "85f6a8ef-6148-4ff8-a0cd-13ec36cef836"
      },
      "source": [
        "path = '/tmp/'\n",
        "traffic_signs_file = 'traffic-signs-data.zip'\n",
        "!wget --no-check-certificate \\\n",
        "    https://s3-us-west-1.amazonaws.com/udacity-selfdrivingcar/traffic-signs-data.zip \\\n",
        "    -O /tmp/traffic-signs-data.zip\n",
        "\n",
        "!wget --no-check-certificate \\\n",
        "    https://raw.githubusercontent.com/udacity/CarND-Traffic-Sign-Classifier-Project/master/signnames.csv\n",
        "\n",
        "with ZipFile(path+traffic_signs_file, 'r') as zipObj:\n",
        "   zipObj.extractall(path)\n",
        "   print('Finish extracting')"
      ],
      "execution_count": 3,
      "outputs": [
        {
          "output_type": "stream",
          "text": [
            "--2020-09-24 04:39:53--  https://s3-us-west-1.amazonaws.com/udacity-selfdrivingcar/traffic-signs-data.zip\n",
            "Resolving s3-us-west-1.amazonaws.com (s3-us-west-1.amazonaws.com)... 52.219.120.224\n",
            "Connecting to s3-us-west-1.amazonaws.com (s3-us-west-1.amazonaws.com)|52.219.120.224|:443... connected.\n",
            "HTTP request sent, awaiting response... 200 OK\n",
            "Length: 123524425 (118M) [application/zip]\n",
            "Saving to: ‘/tmp/traffic-signs-data.zip’\n",
            "\n",
            "/tmp/traffic-signs- 100%[===================>] 117.80M  20.0MB/s    in 6.8s    \n",
            "\n",
            "2020-09-24 04:40:00 (17.4 MB/s) - ‘/tmp/traffic-signs-data.zip’ saved [123524425/123524425]\n",
            "\n",
            "--2020-09-24 04:40:00--  https://raw.githubusercontent.com/udacity/CarND-Traffic-Sign-Classifier-Project/master/signnames.csv\n",
            "Resolving raw.githubusercontent.com (raw.githubusercontent.com)... 151.101.0.133, 151.101.64.133, 151.101.128.133, ...\n",
            "Connecting to raw.githubusercontent.com (raw.githubusercontent.com)|151.101.0.133|:443... connected.\n",
            "HTTP request sent, awaiting response... 200 OK\n",
            "Length: 999 [text/plain]\n",
            "Saving to: ‘signnames.csv’\n",
            "\n",
            "signnames.csv       100%[===================>]     999  --.-KB/s    in 0s      \n",
            "\n",
            "2020-09-24 04:40:01 (56.7 MB/s) - ‘signnames.csv’ saved [999/999]\n",
            "\n",
            "Finish extracting\n"
          ],
          "name": "stdout"
        }
      ]
    },
    {
      "cell_type": "code",
      "metadata": {
        "tags": [],
        "id": "xbBfNmxSxBet",
        "colab_type": "code",
        "colab": {}
      },
      "source": [
        "train = pickle.load(open(path+\"train.p\", 'rb'))\n",
        "valid=pickle.load(open(path+\"valid.p\", 'rb'))\n",
        "test = pickle.load(open(path+\"test.p\", 'rb'))\n",
        "X_train, y_train = train['features'], train['labels']\n",
        "X_valid, y_valid = valid['features'], valid['labels']\n",
        "X_test, y_test = test['features'], test['labels']"
      ],
      "execution_count": 4,
      "outputs": []
    },
    {
      "cell_type": "markdown",
      "metadata": {
        "pycharm": {
          "name": "#%% md\n"
        },
        "id": "mZLmJRh5xBe4",
        "colab_type": "text"
      },
      "source": [
        "## Data description"
      ]
    },
    {
      "cell_type": "code",
      "metadata": {
        "pycharm": {
          "name": "#%%\n"
        },
        "id": "Ft-VermxxBe5",
        "colab_type": "code",
        "colab": {
          "base_uri": "https://localhost:8080/",
          "height": 450
        },
        "outputId": "417e48f6-e618-466f-ffdb-ac27dc1cd1c7"
      },
      "source": [
        "# Verify that the data is complete\n",
        "assert(len(X_train)==len(y_train))\n",
        "assert(len(X_valid)==len(y_valid))\n",
        "assert(len(X_test)==len(y_test))\n",
        "# Data Size\n",
        "print('Training set samples',len(X_train))\n",
        "print('Validation set samples',len(X_valid))\n",
        "print('Test set samples',len(X_test))\n",
        "# Sign names labels\n",
        "sign_names = pd.read_csv('signnames.csv')\n",
        "print(sign_names.head())\n",
        "sign_names.describe()"
      ],
      "execution_count": 8,
      "outputs": [
        {
          "output_type": "stream",
          "text": [
            "Training set samples 34799\n",
            "Validation set samples 4410\n",
            "Test set samples 12630\n",
            "   ClassId              SignName\n",
            "0        0  Speed limit (20km/h)\n",
            "1        1  Speed limit (30km/h)\n",
            "2        2  Speed limit (50km/h)\n",
            "3        3  Speed limit (60km/h)\n",
            "4        4  Speed limit (70km/h)\n"
          ],
          "name": "stdout"
        },
        {
          "output_type": "execute_result",
          "data": {
            "text/html": [
              "<div>\n",
              "<style scoped>\n",
              "    .dataframe tbody tr th:only-of-type {\n",
              "        vertical-align: middle;\n",
              "    }\n",
              "\n",
              "    .dataframe tbody tr th {\n",
              "        vertical-align: top;\n",
              "    }\n",
              "\n",
              "    .dataframe thead th {\n",
              "        text-align: right;\n",
              "    }\n",
              "</style>\n",
              "<table border=\"1\" class=\"dataframe\">\n",
              "  <thead>\n",
              "    <tr style=\"text-align: right;\">\n",
              "      <th></th>\n",
              "      <th>ClassId</th>\n",
              "    </tr>\n",
              "  </thead>\n",
              "  <tbody>\n",
              "    <tr>\n",
              "      <th>count</th>\n",
              "      <td>43.000000</td>\n",
              "    </tr>\n",
              "    <tr>\n",
              "      <th>mean</th>\n",
              "      <td>21.000000</td>\n",
              "    </tr>\n",
              "    <tr>\n",
              "      <th>std</th>\n",
              "      <td>12.556539</td>\n",
              "    </tr>\n",
              "    <tr>\n",
              "      <th>min</th>\n",
              "      <td>0.000000</td>\n",
              "    </tr>\n",
              "    <tr>\n",
              "      <th>25%</th>\n",
              "      <td>10.500000</td>\n",
              "    </tr>\n",
              "    <tr>\n",
              "      <th>50%</th>\n",
              "      <td>21.000000</td>\n",
              "    </tr>\n",
              "    <tr>\n",
              "      <th>75%</th>\n",
              "      <td>31.500000</td>\n",
              "    </tr>\n",
              "    <tr>\n",
              "      <th>max</th>\n",
              "      <td>42.000000</td>\n",
              "    </tr>\n",
              "  </tbody>\n",
              "</table>\n",
              "</div>"
            ],
            "text/plain": [
              "         ClassId\n",
              "count  43.000000\n",
              "mean   21.000000\n",
              "std    12.556539\n",
              "min     0.000000\n",
              "25%    10.500000\n",
              "50%    21.000000\n",
              "75%    31.500000\n",
              "max    42.000000"
            ]
          },
          "metadata": {
            "tags": []
          },
          "execution_count": 8
        }
      ]
    },
    {
      "cell_type": "markdown",
      "metadata": {
        "pycharm": {
          "name": "#%% md\n"
        },
        "id": "FmoOGgCnxBfB",
        "colab_type": "text"
      },
      "source": [
        "## Data distribution"
      ]
    },
    {
      "cell_type": "code",
      "metadata": {
        "pycharm": {
          "name": "#%%\n"
        },
        "id": "ZmmDX71kxBfC",
        "colab_type": "code",
        "colab": {
          "base_uri": "https://localhost:8080/",
          "height": 435
        },
        "outputId": "edfcb37c-dfea-40c9-9d74-31ccc6cf5f6e"
      },
      "source": [
        "# Describe test Y data\n",
        "df_y_test = pd.DataFrame(y_test)\n",
        "print(df_y_test.describe())\n",
        "df_y_test.plot.hist()"
      ],
      "execution_count": 9,
      "outputs": [
        {
          "output_type": "stream",
          "text": [
            "                  0\n",
            "count  12630.000000\n",
            "mean      15.551069\n",
            "std       11.947123\n",
            "min        0.000000\n",
            "25%        5.000000\n",
            "50%       12.000000\n",
            "75%       25.000000\n",
            "max       42.000000\n"
          ],
          "name": "stdout"
        },
        {
          "output_type": "execute_result",
          "data": {
            "text/plain": [
              "<matplotlib.axes._subplots.AxesSubplot at 0x7fc6668b57f0>"
            ]
          },
          "metadata": {
            "tags": []
          },
          "execution_count": 9
        },
        {
          "output_type": "display_data",
          "data": {
            "image/png": "[encoded data removed]",
            "text/plain": [
              "<Figure size 432x288 with 1 Axes>"
            ]
          },
          "metadata": {
            "tags": [],
            "needs_background": "light"
          }
        }
      ]
    },
    {
      "cell_type": "markdown",
      "metadata": {
        "pycharm": {
          "name": "#%% md\n"
        },
        "id": "1zpbv_08xBfH",
        "colab_type": "text"
      },
      "source": [
        "## Data Random Samples"
      ]
    },
    {
      "cell_type": "code",
      "metadata": {
        "tags": [],
        "id": "Pe7dH7nExBfH",
        "colab_type": "code",
        "colab": {}
      },
      "source": [
        "# Random signs from the Y data\n",
        "results = list(np.random.permutation(np.arange(0,y_test.shape[0])))\n",
        "for i in results[:10]:\n",
        "    sign_index = y_train[i]\n",
        "    print(i,sign_index,sign_names.at[sign_index,'SignName'])"
      ],
      "execution_count": null,
      "outputs": []
    },
    {
      "cell_type": "code",
      "metadata": {
        "pycharm": {
          "name": "#%%\n"
        },
        "id": "PADGSsdMxBfL",
        "colab_type": "code",
        "colab": {}
      },
      "source": [
        "# Random signs images and the correspondent name\n",
        "fig, axes = plt.subplots(5,5, figsize=(15,15))\n",
        "results = list(np.random.permutation(np.arange(0,y_test.shape[0])))\n",
        "for i,ax in  enumerate(axes.flat):\n",
        "    pos = results[i]\n",
        "    sign_index = y_train[pos]\n",
        "    ax.set_title(sign_names.at[sign_index,'SignName'],fontsize=10)\n",
        "    ax.imshow(X_train[pos])\n",
        "    ax.set_axis_off()"
      ],
      "execution_count": null,
      "outputs": []
    },
    {
      "cell_type": "markdown",
      "metadata": {
        "pycharm": {
          "name": "#%% md\n"
        },
        "id": "mtEY5WhVxBfQ",
        "colab_type": "text"
      },
      "source": [
        "## Data preprocessing"
      ]
    },
    {
      "cell_type": "code",
      "metadata": {
        "pycharm": {
          "name": "#%%\n"
        },
        "id": "ZMECseMCxBfR",
        "colab_type": "code",
        "colab": {}
      },
      "source": [
        "from sklearn.utils import shuffle\n",
        "X_train = np.sum(X_train/3, axis=3, keepdims=True)/255.0\n",
        "X_valid = np.sum(X_valid/3, axis=3, keepdims=True)/255.0\n",
        "X_train, y_train = shuffle(X_train, y_train)"
      ],
      "execution_count": 10,
      "outputs": []
    },
    {
      "cell_type": "markdown",
      "metadata": {
        "id": "JwyhaMmBaxIM",
        "colab_type": "text"
      },
      "source": [
        "## Training"
      ]
    },
    {
      "cell_type": "code",
      "metadata": {
        "pycharm": {
          "name": "#%%\n"
        },
        "id": "V7ZnVMiSxBfV",
        "colab_type": "code",
        "colab": {
          "base_uri": "https://localhost:8080/",
          "height": 68
        },
        "outputId": "2895bdce-c4f8-4b9b-a729-3db5569cb3ee"
      },
      "source": [
        "import tensorflow as tf\n",
        "from tensorflow.contrib.layers import flatten\n",
        "def LeNet(x,dropout):\n",
        "    mu = 0\n",
        "    sigma = 0.1\n",
        "    conv1_W = tf.Variable(tf.truncated_normal(shape=(5, 5, 1, 16), mean = mu, stddev = sigma))\n",
        "    conv1_b = tf.Variable(tf.zeros(16))\n",
        "    # Convolution 1 and max_pool\n",
        "    conv1   = tf.nn.conv2d(x, conv1_W, strides=[1, 1, 1, 1], padding='SAME') + conv1_b\n",
        "    conv1 = tf.nn.relu(conv1)\n",
        "    conv1 = tf.nn.max_pool(conv1, ksize=[1, 2, 2, 1], strides=[1, 2, 2, 1], padding='SAME')\n",
        "    print(conv1.shape)\n",
        "\n",
        "    conv2_W = tf.Variable(tf.truncated_normal(shape=(5, 5, 16, 32), mean = mu, stddev = sigma))\n",
        "    conv2_b = tf.Variable(tf.zeros(32))\n",
        "    # Convolution 2 and max_pool\n",
        "    conv2   = tf.nn.conv2d(conv1, conv2_W, strides=[1, 1, 1, 1], padding='VALID') + conv2_b\n",
        "    conv2 = tf.nn.relu(conv2)\n",
        "    conv2 = tf.nn.max_pool(conv2, ksize=[1, 2, 2, 1], strides=[1, 2, 2, 1], padding='VALID')\n",
        "\n",
        "    print(conv2.shape)\n",
        "    # Flatten last convolution\n",
        "    fc0   = flatten(conv2)\n",
        "    print(fc0.shape)\n",
        "\n",
        "    fc1_W = tf.Variable(tf.truncated_normal(shape=(1152, 120), mean = mu, stddev = sigma))\n",
        "    fc1_b = tf.Variable(tf.zeros(120))\n",
        "    fc1   = tf.matmul(fc0, fc1_W) + fc1_b\n",
        "    fc1   = tf.nn.relu(fc1)\n",
        "    fc1   = tf.nn.dropout(fc1, dropout)\n",
        "\n",
        "    fc2_W  = tf.Variable(tf.truncated_normal(shape=(120, 42), mean = mu, stddev = sigma))\n",
        "    fc2_b  = tf.Variable(tf.zeros(42))\n",
        "    #print(fc1.shape,fc2_W.shape,fc2_b.shape)\n",
        "    logits = tf.matmul(fc1, fc2_W) + fc2_b\n",
        "    return logits\n",
        "\n",
        "x = tf.placeholder(tf.float32, (None, 32, 32, 1))\n",
        "y = tf.placeholder(tf.int32, (None))\n",
        "keep_prob = tf.placeholder(tf.float32)\n",
        "one_hot_y = tf.one_hot(y, 42)\n",
        "rate = 0.0007\n",
        "dropout = 0.5\n",
        "logits = LeNet(x,keep_prob)\n",
        "cross_entropy = tf.nn.softmax_cross_entropy_with_logits(labels=one_hot_y, logits=logits)\n",
        "loss_operation = tf.reduce_mean(cross_entropy)\n",
        "optimizer = tf.train.AdamOptimizer(learning_rate = rate)\n",
        "training_operation = optimizer.minimize(loss_operation)"
      ],
      "execution_count": 34,
      "outputs": [
        {
          "output_type": "stream",
          "text": [
            "(?, 16, 16, 16)\n",
            "(?, 6, 6, 32)\n",
            "(?, 1152)\n"
          ],
          "name": "stdout"
        }
      ]
    },
    {
      "cell_type": "markdown",
      "metadata": {
        "id": "pX8vOYy-bI_l",
        "colab_type": "text"
      },
      "source": [
        ""
      ]
    },
    {
      "cell_type": "code",
      "metadata": {
        "pycharm": {
          "name": "#%%\n"
        },
        "id": "yipzu4jqxBfh",
        "colab_type": "code",
        "colab": {
          "base_uri": "https://localhost:8080/",
          "height": 833
        },
        "outputId": "59b5fe8f-a695-4c00-f959-c8d759708ad1"
      },
      "source": [
        "BATCH_SIZE=128\n",
        "EPOCHS=15\n",
        "\n",
        "correct_prediction = tf.equal(tf.argmax(logits, 1), tf.argmax(one_hot_y, 1))\n",
        "accuracy_operation = tf.reduce_mean(tf.cast(correct_prediction, tf.float32))\n",
        "saver = tf.train.Saver()\n",
        "def evaluate(X_data, y_data):\n",
        "    num_examples = len(X_data)\n",
        "    total_accuracy = 0\n",
        "    sess = tf.get_default_session()\n",
        "    for offset in range(0, num_examples, BATCH_SIZE):\n",
        "        batch_x, batch_y = X_data[offset:offset+BATCH_SIZE], y_data[offset:offset+BATCH_SIZE]\n",
        "        accuracy = sess.run(accuracy_operation, feed_dict={x: batch_x,\n",
        "                                                           y: batch_y,\n",
        "                                                           keep_prob: 1.})\n",
        "        total_accuracy += (accuracy * len(batch_x))\n",
        "    return total_accuracy / num_examples\n",
        "\n",
        "with tf.Session() as sess:\n",
        "    sess.run(tf.global_variables_initializer())\n",
        "    num_examples = len(X_train)\n",
        "\n",
        "    print(\"Training...\")\n",
        "    print()\n",
        "    for i in range(EPOCHS):\n",
        "        X_train, y_train = shuffle(X_train, y_train)\n",
        "        for offset in range(0, num_examples, BATCH_SIZE):\n",
        "            end = offset + BATCH_SIZE\n",
        "            batch_x, batch_y = X_train[offset:end], y_train[offset:end]\n",
        "            sess.run(training_operation, feed_dict={x: batch_x,\n",
        "                                                    y: batch_y,\n",
        "                                                    keep_prob: dropout})\n",
        "\n",
        "        validation_accuracy = evaluate(X_valid, y_valid)\n",
        "        print(\"EPOCH {} ...\".format(i+1))\n",
        "        print(\"Validation Accuracy = {:.3f}\".format(validation_accuracy))\n",
        "        print()\n",
        "\n",
        "    saver.save(sess, './lenet')\n",
        "    print(\"Model saved\")\n"
      ],
      "execution_count": 35,
      "outputs": [
        {
          "output_type": "stream",
          "text": [
            "Training...\n",
            "\n",
            "EPOCH 1 ...\n",
            "Validation Accuracy = 0.602\n",
            "\n",
            "EPOCH 2 ...\n",
            "Validation Accuracy = 0.808\n",
            "\n",
            "EPOCH 3 ...\n",
            "Validation Accuracy = 0.852\n",
            "\n",
            "EPOCH 4 ...\n",
            "Validation Accuracy = 0.877\n",
            "\n",
            "EPOCH 5 ...\n",
            "Validation Accuracy = 0.893\n",
            "\n",
            "EPOCH 6 ...\n",
            "Validation Accuracy = 0.896\n",
            "\n",
            "EPOCH 7 ...\n",
            "Validation Accuracy = 0.920\n",
            "\n",
            "EPOCH 8 ...\n",
            "Validation Accuracy = 0.920\n",
            "\n",
            "EPOCH 9 ...\n",
            "Validation Accuracy = 0.918\n",
            "\n",
            "EPOCH 10 ...\n",
            "Validation Accuracy = 0.916\n",
            "\n",
            "EPOCH 11 ...\n",
            "Validation Accuracy = 0.906\n",
            "\n",
            "EPOCH 12 ...\n",
            "Validation Accuracy = 0.890\n",
            "\n",
            "EPOCH 13 ...\n",
            "Validation Accuracy = 0.884\n",
            "\n",
            "EPOCH 14 ...\n",
            "Validation Accuracy = 0.866\n",
            "\n",
            "EPOCH 15 ...\n",
            "Validation Accuracy = 0.745\n",
            "\n",
            "Model saved\n"
          ],
          "name": "stdout"
        }
      ]
    },
    {
      "cell_type": "code",
      "metadata": {
        "id": "Hqn8Q8BShdCJ",
        "colab_type": "code",
        "colab": {}
      },
      "source": [
        ""
      ],
      "execution_count": null,
      "outputs": []
    }
  ]
}