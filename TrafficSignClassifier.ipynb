{
  "nbformat": 4,
  "nbformat_minor": 0,
  "metadata": {
    "accelerator": "GPU",
    "colab": {
      "name": "TrafficSignClassifier.ipynb",
      "provenance": [],
      "collapsed_sections": [],
      "include_colab_link": true
    },
    "kernelspec": {
      "display_name": "Python 3",
      "language": "python",
      "name": "python3"
    },
    "language_info": {
      "codemirror_mode": {
        "name": "ipython",
        "version": 3
      },
      "file_extension": ".py",
      "mimetype": "text/x-python",
      "name": "python",
      "nbconvert_exporter": "python",
      "pygments_lexer": "ipython3",
      "version": "3.8.5-final"
    }
  },
  "cells": [
    {
      "cell_type": "markdown",
      "metadata": {
        "id": "view-in-github",
        "colab_type": "text"
      },
      "source": [
        "<a href=\"https://colab.research.google.com/github/hurtadosanti/TrafficSignClassifier/blob/tensorflow2/TrafficSignClassifier.ipynb\" target=\"_parent\"><img src=\"https://colab.research.google.com/assets/colab-badge.svg\" alt=\"Open In Colab\"/></a>"
      ]
    },
    {
      "cell_type": "markdown",
      "metadata": {
        "id": "XtP1EQlNiWoE",
        "pycharm": {
          "name": "#%% md\n"
        }
      },
      "source": [
        "# Traffic Sign Recognition Classifier\n",
        "Deep Learning\n",
        "\n",
        "[Problem Definition](https://github.com/udacity/CarND-Traffic-Sign-Classifier-Project/blob/master/Traffic_Sign_Classifier.ipynb)\n",
        "\n",
        "https://www.tensorflow.org/tutorials/keras/classification#evaluate_accuracy\n",
        "\n",
        "## Import packages"
      ]
    },
    {
      "cell_type": "code",
      "metadata": {
        "id": "8ir4q3lwxBeV",
        "tags": [],
        "outputId": "0de9ecde-1e91-4096-aeea-3e8bc42ff8cc",
        "colab": {
          "base_uri": "https://localhost:8080/",
          "height": 34
        }
      },
      "source": [
        "import numpy as np\n",
        "import pandas as pd\n",
        "import matplotlib.pyplot as plt\n",
        "from random import randint\n",
        "import pickle\n",
        "import os\n",
        "from zipfile import ZipFile\n",
        "from sklearn.utils import shuffle\n",
        "from PIL import Image\n",
        "import tensorflow as tf\n",
        "from tensorflow import keras\n",
        "from tensorflow.keras import datasets, layers, models\n",
        "print(tf.__version__)\n",
        "%matplotlib inline\n"
      ],
      "execution_count": 19,
      "outputs": [
        {
          "output_type": "stream",
          "text": [
            "2.3.0\n"
          ],
          "name": "stdout"
        }
      ]
    },
    {
      "cell_type": "markdown",
      "metadata": {
        "id": "jhuoAmosxBem",
        "pycharm": {
          "name": "#%% md\n"
        }
      },
      "source": [
        "## Load Data"
      ]
    },
    {
      "cell_type": "code",
      "metadata": {
        "id": "vN960anwxBen",
        "tags": [],
        "outputId": "25ff7bb4-7ef2-4924-b6d8-6591ff0f7e2c",
        "colab": {
          "base_uri": "https://localhost:8080/",
          "height": 391
        }
      },
      "source": [
        "traffic_signs_file = 'traffic-signs-data.zip'\n",
        "!wget --no-check-certificate --progress=bar:force:noscroll \\\n",
        "    https://s3-us-west-1.amazonaws.com/udacity-selfdrivingcar/traffic-signs-data.zip \\\n",
        "    -O traffic-signs-data.zip\n",
        "\n",
        "!wget --no-check-certificate --progress=bar:force:noscroll \\\n",
        "    https://raw.githubusercontent.com/udacity/CarND-Traffic-Sign-Classifier-Project/master/signnames.csv -O signnames.csv\n"
      ],
      "execution_count": 20,
      "outputs": [
        {
          "output_type": "stream",
          "text": [
            "--2020-09-29 19:59:56--  https://s3-us-west-1.amazonaws.com/udacity-selfdrivingcar/traffic-signs-data.zip\n",
            "Resolving s3-us-west-1.amazonaws.com (s3-us-west-1.amazonaws.com)... 52.219.112.248\n",
            "Connecting to s3-us-west-1.amazonaws.com (s3-us-west-1.amazonaws.com)|52.219.112.248|:443... connected.\n",
            "HTTP request sent, awaiting response... 200 OK\n",
            "Length: 123524425 (118M) [application/zip]\n",
            "Saving to: ‘traffic-signs-data.zip’\n",
            "\n",
            "traffic-signs-data. 100%[===================>] 117.80M  97.8MB/s    in 1.2s    \n",
            "\n",
            "2020-09-29 19:59:57 (97.8 MB/s) - ‘traffic-signs-data.zip’ saved [123524425/123524425]\n",
            "\n",
            "--2020-09-29 19:59:57--  https://raw.githubusercontent.com/udacity/CarND-Traffic-Sign-Classifier-Project/master/signnames.csv\n",
            "Resolving raw.githubusercontent.com (raw.githubusercontent.com)... 151.101.0.133, 151.101.64.133, 151.101.128.133, ...\n",
            "Connecting to raw.githubusercontent.com (raw.githubusercontent.com)|151.101.0.133|:443... connected.\n",
            "HTTP request sent, awaiting response... 200 OK\n",
            "Length: 999 [text/plain]\n",
            "Saving to: ‘signnames.csv’\n",
            "\n",
            "signnames.csv       100%[===================>]     999  --.-KB/s    in 0s      \n",
            "\n",
            "2020-09-29 19:59:58 (60.2 MB/s) - ‘signnames.csv’ saved [999/999]\n",
            "\n"
          ],
          "name": "stdout"
        }
      ]
    },
    {
      "cell_type": "code",
      "metadata": {
        "tags": [],
        "id": "94SkJZCdcZLX",
        "outputId": "dc8714a1-b501-40c6-ed70-36aa6be33724",
        "colab": {
          "base_uri": "https://localhost:8080/",
          "height": 34
        }
      },
      "source": [
        "with ZipFile(traffic_signs_file, 'r') as zipObj:\n",
        "   zipObj.extractall()\n",
        "   print('Finish extracting')"
      ],
      "execution_count": 21,
      "outputs": [
        {
          "output_type": "stream",
          "text": [
            "Finish extracting\n"
          ],
          "name": "stdout"
        }
      ]
    },
    {
      "cell_type": "code",
      "metadata": {
        "id": "xbBfNmxSxBet",
        "tags": [],
        "outputId": "4aa674bc-c766-4cca-bb02-30f9848d18d4",
        "colab": {
          "base_uri": "https://localhost:8080/",
          "height": 34
        }
      },
      "source": [
        "train = pickle.load(open(\"train.p\", 'rb'))\n",
        "valid=pickle.load(open(\"valid.p\", 'rb'))\n",
        "test = pickle.load(open(\"test.p\", 'rb'))\n",
        "X_train, y_train = train['features'], train['labels']\n",
        "X_valid, y_valid = valid['features'], valid['labels']\n",
        "X_test, y_test = test['features'], test['labels']\n",
        "# Verify that the data is complete\n",
        "assert(len(X_train)==len(y_train))\n",
        "assert(len(X_valid)==len(y_valid))\n",
        "assert(len(X_test)==len(y_test))\n",
        "\n",
        "assert(len(X_train)>0)\n",
        "assert(len(X_valid)>0)\n",
        "assert(len(X_test)>0)\n",
        "print('Data is correct')"
      ],
      "execution_count": 22,
      "outputs": [
        {
          "output_type": "stream",
          "text": [
            "Data is correct\n"
          ],
          "name": "stdout"
        }
      ]
    },
    {
      "cell_type": "markdown",
      "metadata": {
        "id": "Hp88q-cziWoy",
        "pycharm": {
          "name": "#%% md\n"
        }
      },
      "source": [
        "## Data preprocessing"
      ]
    },
    {
      "cell_type": "code",
      "metadata": {
        "id": "14r7so-qZvTE",
        "pycharm": {
          "name": "#%%\n"
        }
      },
      "source": [
        "X_train_normalized = X_train/255.0\n",
        "X_valid_normalized = X_valid/255.0\n",
        "X_train_shuffle, y_train_shuffle  = shuffle(X_train_normalized, y_train)\n",
        "image_shape = X_train[0].shape"
      ],
      "execution_count": 23,
      "outputs": []
    },
    {
      "cell_type": "markdown",
      "metadata": {
        "id": "JwyhaMmBaxIM",
        "pycharm": {
          "name": "#%% md\n"
        }
      },
      "source": [
        "## Training\n",
        "### Network Architecture"
      ]
    },
    {
      "cell_type": "markdown",
      "metadata": {
        "id": "EQrHt-1eiWpK",
        "pycharm": {
          "name": "#%% md\n"
        }
      },
      "source": [
        "### Prepare the model"
      ]
    },
    {
      "cell_type": "code",
      "metadata": {
        "id": "mEcF9ksEcZL1"
      },
      "source": [
        "model = models.Sequential()\n",
        "model.add(layers.Conv2D(32, (3, 3), activation='relu', input_shape=(32, 32, 3)))\n",
        "model.add(layers.MaxPooling2D((2, 2)))\n",
        "model.add(layers.Conv2D(64, (3, 3), activation='relu'))\n",
        "model.add(layers.MaxPooling2D((2, 2)))\n",
        "model.add(layers.Dropout(0.25))\n",
        "model.add(layers.Conv2D(128, (3, 3), activation='relu'))\n",
        "model.add(layers.Flatten())\n",
        "model.add(layers.Dense(64, activation='relu'))\n",
        "model.add(layers.Dropout(0.25))\n",
        "model.add(layers.Dense(43,activation='sigmoid'))\n"
      ],
      "execution_count": 25,
      "outputs": []
    },
    {
      "cell_type": "markdown",
      "metadata": {
        "id": "pX8vOYy-bI_l",
        "pycharm": {
          "name": "#%% md\n"
        }
      },
      "source": [
        "### Execute the training\n",
        "We stop when accuracy is over 0.95"
      ]
    },
    {
      "cell_type": "code",
      "metadata": {
        "tags": [],
        "id": "PX1tzPLZcZL4",
        "outputId": "d6dd8ecb-7500-4545-f411-aa637e25d142",
        "colab": {
          "base_uri": "https://localhost:8080/",
          "height": 493
        }
      },
      "source": [
        "model.summary()"
      ],
      "execution_count": 26,
      "outputs": [
        {
          "output_type": "stream",
          "text": [
            "Model: \"sequential_4\"\n",
            "_________________________________________________________________\n",
            "Layer (type)                 Output Shape              Param #   \n",
            "=================================================================\n",
            "conv2d_12 (Conv2D)           (None, 30, 30, 32)        896       \n",
            "_________________________________________________________________\n",
            "max_pooling2d_8 (MaxPooling2 (None, 15, 15, 32)        0         \n",
            "_________________________________________________________________\n",
            "conv2d_13 (Conv2D)           (None, 13, 13, 64)        18496     \n",
            "_________________________________________________________________\n",
            "max_pooling2d_9 (MaxPooling2 (None, 6, 6, 64)          0         \n",
            "_________________________________________________________________\n",
            "dropout (Dropout)            (None, 6, 6, 64)          0         \n",
            "_________________________________________________________________\n",
            "conv2d_14 (Conv2D)           (None, 4, 4, 128)         73856     \n",
            "_________________________________________________________________\n",
            "flatten_4 (Flatten)          (None, 2048)              0         \n",
            "_________________________________________________________________\n",
            "dense_8 (Dense)              (None, 64)                131136    \n",
            "_________________________________________________________________\n",
            "dropout_1 (Dropout)          (None, 64)                0         \n",
            "_________________________________________________________________\n",
            "dense_9 (Dense)              (None, 43)                2795      \n",
            "=================================================================\n",
            "Total params: 227,179\n",
            "Trainable params: 227,179\n",
            "Non-trainable params: 0\n",
            "_________________________________________________________________\n"
          ],
          "name": "stdout"
        }
      ]
    },
    {
      "cell_type": "code",
      "metadata": {
        "tags": [],
        "id": "nRN18ThWcZL6",
        "outputId": "ccd9f898-8dfc-4000-faf7-27fb79327985",
        "colab": {
          "base_uri": "https://localhost:8080/",
          "height": 357
        }
      },
      "source": [
        "model.compile(optimizer='adam',\n",
        "              loss=tf.keras.losses.SparseCategoricalCrossentropy(from_logits=True),\n",
        "              metrics=['accuracy'])\n",
        "\n",
        "history = model.fit(X_train_normalized, y_train, epochs=10,batch_size=128, \n",
        "                    validation_data=(X_valid_normalized, y_valid))\n"
      ],
      "execution_count": 31,
      "outputs": [
        {
          "output_type": "stream",
          "text": [
            "Epoch 1/10\n",
            "272/272 [==============================] - 2s 7ms/step - loss: 2.9137 - accuracy: 0.7981 - val_loss: 2.9378 - val_accuracy: 0.8034\n",
            "Epoch 2/10\n",
            "272/272 [==============================] - 2s 6ms/step - loss: 2.9122 - accuracy: 0.8028 - val_loss: 2.9363 - val_accuracy: 0.8107\n",
            "Epoch 3/10\n",
            "272/272 [==============================] - 2s 6ms/step - loss: 2.9106 - accuracy: 0.8105 - val_loss: 2.9377 - val_accuracy: 0.7971\n",
            "Epoch 4/10\n",
            "272/272 [==============================] - 2s 6ms/step - loss: 2.9097 - accuracy: 0.8139 - val_loss: 2.9371 - val_accuracy: 0.8186\n",
            "Epoch 5/10\n",
            "272/272 [==============================] - 2s 6ms/step - loss: 2.9098 - accuracy: 0.8154 - val_loss: 2.9399 - val_accuracy: 0.8168\n",
            "Epoch 6/10\n",
            "272/272 [==============================] - 2s 6ms/step - loss: 2.9083 - accuracy: 0.8213 - val_loss: 2.9388 - val_accuracy: 0.8172\n",
            "Epoch 7/10\n",
            "272/272 [==============================] - 2s 6ms/step - loss: 2.9081 - accuracy: 0.8196 - val_loss: 2.9379 - val_accuracy: 0.8263\n",
            "Epoch 8/10\n",
            "272/272 [==============================] - 2s 6ms/step - loss: 2.9078 - accuracy: 0.8244 - val_loss: 2.9368 - val_accuracy: 0.8426\n",
            "Epoch 9/10\n",
            "272/272 [==============================] - 2s 6ms/step - loss: 2.9057 - accuracy: 0.8305 - val_loss: 2.9249 - val_accuracy: 0.8345\n",
            "Epoch 10/10\n",
            "272/272 [==============================] - 2s 6ms/step - loss: 2.8988 - accuracy: 0.8361 - val_loss: 2.9221 - val_accuracy: 0.8447\n"
          ],
          "name": "stdout"
        }
      ]
    },
    {
      "cell_type": "markdown",
      "metadata": {
        "id": "EuBfciLciWpR",
        "pycharm": {
          "name": "#%% md\n"
        }
      },
      "source": [
        "## Test the model"
      ]
    },
    {
      "cell_type": "code",
      "metadata": {
        "id": "wU9eZbjfdoFr",
        "outputId": "47a55470-0969-4c99-eb2b-930a74155908",
        "colab": {
          "base_uri": "https://localhost:8080/",
          "height": 68
        }
      },
      "source": [
        "test_loss, test_acc = model.evaluate(X_test,  y_test, verbose=2)\n",
        "\n",
        "print('\\nTest accuracy:', test_acc)"
      ],
      "execution_count": 32,
      "outputs": [
        {
          "output_type": "stream",
          "text": [
            "395/395 - 1s - loss: 2.9260 - accuracy: 0.7939\n",
            "\n",
            "Test accuracy: 0.7939034104347229\n"
          ],
          "name": "stdout"
        }
      ]
    },
    {
      "cell_type": "code",
      "metadata": {
        "id": "xTtZhZ06ecCr"
      },
      "source": [
        ""
      ],
      "execution_count": null,
      "outputs": []
    }
  ]
}