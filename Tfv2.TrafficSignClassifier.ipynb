{
  "nbformat": 4,
  "nbformat_minor": 0,
  "metadata": {
    "accelerator": "GPU",
    "colab": {
      "name": "TrafficSignClassifier.ipynb",
      "provenance": [],
      "collapsed_sections": [],
      "include_colab_link": true
    },
    "kernelspec": {
      "display_name": "Python 3",
      "language": "python",
      "name": "python3"
    },
    "language_info": {
      "codemirror_mode": {
        "name": "ipython",
        "version": 3
      },
      "file_extension": ".py",
      "mimetype": "text/x-python",
      "name": "python",
      "nbconvert_exporter": "python",
      "pygments_lexer": "ipython3",
      "version": "3.8.5-final"
    }
  },
  "cells": [
    {
      "cell_type": "markdown",
      "metadata": {
        "id": "view-in-github",
        "colab_type": "text"
      },
      "source": [
        "<a href=\"https://colab.research.google.com/github/hurtadosanti/TrafficSignClassifier/blob/master/Tfv2.TrafficSignClassifier.ipynb\" target=\"_parent\"><img src=\"https://colab.research.google.com/assets/colab-badge.svg\" alt=\"Open In Colab\"/></a>"
      ]
    },
    {
      "cell_type": "markdown",
      "metadata": {
        "id": "XtP1EQlNiWoE",
        "pycharm": {
          "name": "#%% md\n"
        }
      },
      "source": [
        "# Traffic Sign Recognition Classifier\n",
        "Deep Learning\n",
        "\n",
        "**TensorFlow v2**\n",
        "\n",
        "[Problem Definition](https://github.com/udacity/CarND-Traffic-Sign-Classifier-Project/blob/master/Traffic_Sign_Classifier.ipynb)\n",
        "\n",
        "https://www.tensorflow.org/tutorials/keras/classification#evaluate_accuracy\n",
        "\n",
        "## Import packages"
      ]
    },
    {
      "cell_type": "code",
      "metadata": {
        "id": "8ir4q3lwxBeV",
        "tags": [],
        "outputId": "5a259f78-5bf6-4f31-85b6-8698d27e16d0",
        "colab": {
          "base_uri": "https://localhost:8080/",
          "height": 34
        }
      },
      "source": [
        "import numpy as np\n",
        "import pandas as pd\n",
        "import pickle\n",
        "import os\n",
        "from zipfile import ZipFile\n",
        "import tensorflow as tf\n",
        "from tensorflow import keras\n",
        "from tensorflow.keras import datasets, layers, models\n",
        "print(tf.__version__)\n",
        "%matplotlib inline\n"
      ],
      "execution_count": 10,
      "outputs": [
        {
          "output_type": "stream",
          "text": [
            "2.3.0\n"
          ],
          "name": "stdout"
        }
      ]
    },
    {
      "cell_type": "markdown",
      "metadata": {
        "id": "jhuoAmosxBem",
        "pycharm": {
          "name": "#%% md\n"
        }
      },
      "source": [
        "## Load Data"
      ]
    },
    {
      "cell_type": "code",
      "metadata": {
        "id": "vN960anwxBen",
        "tags": [],
        "outputId": "b9836351-547e-4b86-8369-5266d750f778",
        "colab": {
          "base_uri": "https://localhost:8080/",
          "height": 399
        }
      },
      "source": [
        "traffic_signs_file = 'traffic-signs-data.zip'\n",
        "!wget --no-check-certificate --progress=bar:force:noscroll \\\n",
        "    https://s3-us-west-1.amazonaws.com/udacity-selfdrivingcar/traffic-signs-data.zip \\\n",
        "    -O traffic-signs-data.zip\n",
        "\n",
        "!wget --no-check-certificate --progress=bar:force:noscroll \\\n",
        "    https://raw.githubusercontent.com/udacity/CarND-Traffic-Sign-Classifier-Project/master/signnames.csv -O signnames.csv\n"
      ],
      "execution_count": 11,
      "outputs": [
        {
          "output_type": "stream",
          "text": [
            "--2020-10-02 07:01:21--  https://s3-us-west-1.amazonaws.com/udacity-selfdrivingcar/traffic-signs-data.zip\n",
            "Resolving s3-us-west-1.amazonaws.com (s3-us-west-1.amazonaws.com)... 52.219.120.224\n",
            "Connecting to s3-us-west-1.amazonaws.com (s3-us-west-1.amazonaws.com)|52.219.120.224|:443... connected.\n",
            "HTTP request sent, awaiting response... 200 OK\n",
            "Length: 123524425 (118M) [application/zip]\n",
            "Saving to: ‘traffic-signs-data.zip’\n",
            "\n",
            "traffic-signs-data. 100%[===================>] 117.80M  19.6MB/s    in 7.1s    \n",
            "\n",
            "2020-10-02 07:01:29 (16.5 MB/s) - ‘traffic-signs-data.zip’ saved [123524425/123524425]\n",
            "\n",
            "--2020-10-02 07:01:29--  https://raw.githubusercontent.com/udacity/CarND-Traffic-Sign-Classifier-Project/master/signnames.csv\n",
            "Resolving raw.githubusercontent.com (raw.githubusercontent.com)... 151.101.0.133, 151.101.64.133, 151.101.128.133, ...\n",
            "Connecting to raw.githubusercontent.com (raw.githubusercontent.com)|151.101.0.133|:443... connected.\n",
            "HTTP request sent, awaiting response... 200 OK\n",
            "Length: 999 [text/plain]\n",
            "Saving to: ‘signnames.csv’\n",
            "\n",
            "signnames.csv       100%[===================>]     999  --.-KB/s    in 0s      \n",
            "\n",
            "2020-10-02 07:01:29 (70.4 MB/s) - ‘signnames.csv’ saved [999/999]\n",
            "\n"
          ],
          "name": "stdout"
        }
      ]
    },
    {
      "cell_type": "code",
      "metadata": {
        "tags": [],
        "id": "94SkJZCdcZLX",
        "outputId": "82dee5fa-c04c-4b50-f079-861a4b49617b",
        "colab": {
          "base_uri": "https://localhost:8080/",
          "height": 34
        }
      },
      "source": [
        "with ZipFile(traffic_signs_file, 'r') as zipObj:\n",
        "   zipObj.extractall()\n",
        "   print('Finish extracting')"
      ],
      "execution_count": 12,
      "outputs": [
        {
          "output_type": "stream",
          "text": [
            "Finish extracting\n"
          ],
          "name": "stdout"
        }
      ]
    },
    {
      "cell_type": "code",
      "metadata": {
        "id": "xbBfNmxSxBet",
        "tags": [],
        "outputId": "3431f51e-1a04-41a8-d345-091f46e43335",
        "colab": {
          "base_uri": "https://localhost:8080/",
          "height": 34
        }
      },
      "source": [
        "train = pickle.load(open(\"train.p\", 'rb'))\n",
        "valid=pickle.load(open(\"valid.p\", 'rb'))\n",
        "test = pickle.load(open(\"test.p\", 'rb'))\n",
        "X_train, y_train = train['features'], train['labels']\n",
        "X_valid, y_valid = valid['features'], valid['labels']\n",
        "X_test, y_test = test['features'], test['labels']\n",
        "# Verify that the data is complete\n",
        "assert(len(X_train)==len(y_train))\n",
        "assert(len(X_valid)==len(y_valid))\n",
        "assert(len(X_test)==len(y_test))\n",
        "\n",
        "assert(len(X_train)>0)\n",
        "assert(len(X_valid)>0)\n",
        "assert(len(X_test)>0)\n",
        "print('Data is correct')"
      ],
      "execution_count": 13,
      "outputs": [
        {
          "output_type": "stream",
          "text": [
            "Data is correct\n"
          ],
          "name": "stdout"
        }
      ]
    },
    {
      "cell_type": "markdown",
      "metadata": {
        "id": "Hp88q-cziWoy",
        "pycharm": {
          "name": "#%% md\n"
        }
      },
      "source": [
        "## Data preprocessing"
      ]
    },
    {
      "cell_type": "code",
      "metadata": {
        "id": "14r7so-qZvTE",
        "pycharm": {
          "name": "#%%\n"
        },
        "outputId": "a44f8902-9207-426a-f9f3-da154ba4d2a2",
        "colab": {
          "base_uri": "https://localhost:8080/",
          "height": 34
        }
      },
      "source": [
        "X_train_normalized = X_train/255.0\n",
        "X_test_normalized = X_test/255.0\n",
        "X_valid_normalized = X_valid/255.0\n",
        "\n",
        "X_train_gray = np.sum(X_train_normalized/3,axis=3,keepdims=True)\n",
        "X_test_gray = np.sum(X_test_normalized/3,axis=3,keepdims=True)\n",
        "X_valid_gray = np.sum(X_valid_normalized/3,axis=3,keepdims=True)\n",
        "\n",
        "image_shape = X_train_gray[0].shape\n",
        "print(image_shape)"
      ],
      "execution_count": 14,
      "outputs": [
        {
          "output_type": "stream",
          "text": [
            "(32, 32, 1)\n"
          ],
          "name": "stdout"
        }
      ]
    },
    {
      "cell_type": "markdown",
      "metadata": {
        "id": "JwyhaMmBaxIM",
        "pycharm": {
          "name": "#%% md\n"
        }
      },
      "source": [
        "## Training\n",
        "### Network Architecture"
      ]
    },
    {
      "cell_type": "markdown",
      "metadata": {
        "id": "EQrHt-1eiWpK",
        "pycharm": {
          "name": "#%% md\n"
        }
      },
      "source": [
        "### Prepare the model"
      ]
    },
    {
      "cell_type": "code",
      "metadata": {
        "id": "mEcF9ksEcZL1"
      },
      "source": [
        "model = models.Sequential()\n",
        "model.add(layers.Conv2D(32, (3, 3), activation='relu', input_shape=image_shape))\n",
        "model.add(layers.MaxPooling2D((2, 2)))\n",
        "model.add(layers.Conv2D(64, (3, 3), activation='relu'))\n",
        "model.add(layers.MaxPooling2D((2, 2)))\n",
        "model.add(layers.Dropout(0.25))\n",
        "model.add(layers.Conv2D(128, (3, 3), activation='relu'))\n",
        "model.add(layers.Flatten())\n",
        "model.add(layers.Dense(64, activation='relu'))\n",
        "model.add(layers.Dropout(0.25))\n",
        "model.add(layers.Dense(43,activation='sigmoid'))\n"
      ],
      "execution_count": 15,
      "outputs": []
    },
    {
      "cell_type": "markdown",
      "metadata": {
        "id": "pX8vOYy-bI_l",
        "pycharm": {
          "name": "#%% md\n"
        }
      },
      "source": [
        "### Execute the training\n",
        "We stop when accuracy is over 0.95"
      ]
    },
    {
      "cell_type": "code",
      "metadata": {
        "tags": [],
        "id": "PX1tzPLZcZL4",
        "outputId": "7e8797d9-faf2-48cd-da49-4b8fde3b2fd9",
        "colab": {
          "base_uri": "https://localhost:8080/",
          "height": 503
        }
      },
      "source": [
        "model.summary()"
      ],
      "execution_count": 16,
      "outputs": [
        {
          "output_type": "stream",
          "text": [
            "Model: \"sequential_1\"\n",
            "_________________________________________________________________\n",
            "Layer (type)                 Output Shape              Param #   \n",
            "=================================================================\n",
            "conv2d_3 (Conv2D)            (None, 30, 30, 32)        320       \n",
            "_________________________________________________________________\n",
            "max_pooling2d_2 (MaxPooling2 (None, 15, 15, 32)        0         \n",
            "_________________________________________________________________\n",
            "conv2d_4 (Conv2D)            (None, 13, 13, 64)        18496     \n",
            "_________________________________________________________________\n",
            "max_pooling2d_3 (MaxPooling2 (None, 6, 6, 64)          0         \n",
            "_________________________________________________________________\n",
            "dropout_2 (Dropout)          (None, 6, 6, 64)          0         \n",
            "_________________________________________________________________\n",
            "conv2d_5 (Conv2D)            (None, 4, 4, 128)         73856     \n",
            "_________________________________________________________________\n",
            "flatten_1 (Flatten)          (None, 2048)              0         \n",
            "_________________________________________________________________\n",
            "dense_2 (Dense)              (None, 64)                131136    \n",
            "_________________________________________________________________\n",
            "dropout_3 (Dropout)          (None, 64)                0         \n",
            "_________________________________________________________________\n",
            "dense_3 (Dense)              (None, 43)                2795      \n",
            "=================================================================\n",
            "Total params: 226,603\n",
            "Trainable params: 226,603\n",
            "Non-trainable params: 0\n",
            "_________________________________________________________________\n"
          ],
          "name": "stdout"
        }
      ]
    },
    {
      "cell_type": "code",
      "metadata": {
        "tags": [],
        "id": "nRN18ThWcZL6",
        "outputId": "c8d39638-12b3-4ef4-c0c7-4aa475b4738e",
        "colab": {
          "base_uri": "https://localhost:8080/",
          "height": 712
        }
      },
      "source": [
        "model.compile(optimizer='adam',\n",
        "              loss=tf.keras.losses.SparseCategoricalCrossentropy(from_logits=True),\n",
        "              metrics=['accuracy'])\n",
        "\n",
        "history = model.fit(X_train_gray, y_train,\n",
        "                    epochs=20,batch_size=128,\n",
        "                    shuffle=True,\n",
        "                    validation_data=(X_valid_gray, y_valid))\n"
      ],
      "execution_count": 17,
      "outputs": [
        {
          "output_type": "stream",
          "text": [
            "Epoch 1/20\n",
            "272/272 [==============================] - 2s 6ms/step - loss: 3.4567 - accuracy: 0.0734 - val_loss: 3.2370 - val_accuracy: 0.0782\n",
            "Epoch 2/20\n",
            "272/272 [==============================] - 1s 5ms/step - loss: 3.1240 - accuracy: 0.3191 - val_loss: 3.0205 - val_accuracy: 0.5542\n",
            "Epoch 3/20\n",
            "272/272 [==============================] - 1s 5ms/step - loss: 3.0031 - accuracy: 0.5621 - val_loss: 2.9537 - val_accuracy: 0.6726\n",
            "Epoch 4/20\n",
            "272/272 [==============================] - 1s 5ms/step - loss: 2.9566 - accuracy: 0.6461 - val_loss: 2.9283 - val_accuracy: 0.7200\n",
            "Epoch 5/20\n",
            "272/272 [==============================] - 1s 5ms/step - loss: 2.9302 - accuracy: 0.6816 - val_loss: 2.9142 - val_accuracy: 0.7283\n",
            "Epoch 6/20\n",
            "272/272 [==============================] - 1s 5ms/step - loss: 2.9138 - accuracy: 0.7044 - val_loss: 2.9036 - val_accuracy: 0.7338\n",
            "Epoch 7/20\n",
            "272/272 [==============================] - 1s 5ms/step - loss: 2.9021 - accuracy: 0.7317 - val_loss: 2.8997 - val_accuracy: 0.7585\n",
            "Epoch 8/20\n",
            "272/272 [==============================] - 1s 5ms/step - loss: 2.8918 - accuracy: 0.7521 - val_loss: 2.8862 - val_accuracy: 0.7986\n",
            "Epoch 9/20\n",
            "272/272 [==============================] - 1s 5ms/step - loss: 2.8848 - accuracy: 0.7757 - val_loss: 2.8869 - val_accuracy: 0.8127\n",
            "Epoch 10/20\n",
            "272/272 [==============================] - 1s 5ms/step - loss: 2.8794 - accuracy: 0.8024 - val_loss: 2.8817 - val_accuracy: 0.8492\n",
            "Epoch 11/20\n",
            "272/272 [==============================] - 1s 5ms/step - loss: 2.8717 - accuracy: 0.8252 - val_loss: 2.8722 - val_accuracy: 0.8617\n",
            "Epoch 12/20\n",
            "272/272 [==============================] - 1s 5ms/step - loss: 2.8688 - accuracy: 0.8399 - val_loss: 2.8735 - val_accuracy: 0.8683\n",
            "Epoch 13/20\n",
            "272/272 [==============================] - 1s 5ms/step - loss: 2.8658 - accuracy: 0.8449 - val_loss: 2.8715 - val_accuracy: 0.8757\n",
            "Epoch 14/20\n",
            "272/272 [==============================] - 1s 5ms/step - loss: 2.8617 - accuracy: 0.8585 - val_loss: 2.8646 - val_accuracy: 0.8925\n",
            "Epoch 15/20\n",
            "272/272 [==============================] - 1s 5ms/step - loss: 2.8586 - accuracy: 0.8659 - val_loss: 2.8715 - val_accuracy: 0.8823\n",
            "Epoch 16/20\n",
            "272/272 [==============================] - 1s 5ms/step - loss: 2.8568 - accuracy: 0.8713 - val_loss: 2.8637 - val_accuracy: 0.8859\n",
            "Epoch 17/20\n",
            "272/272 [==============================] - 1s 5ms/step - loss: 2.8537 - accuracy: 0.8810 - val_loss: 2.8595 - val_accuracy: 0.8943\n",
            "Epoch 18/20\n",
            "272/272 [==============================] - 1s 5ms/step - loss: 2.8516 - accuracy: 0.8887 - val_loss: 2.8564 - val_accuracy: 0.9093\n",
            "Epoch 19/20\n",
            "272/272 [==============================] - 1s 5ms/step - loss: 2.8514 - accuracy: 0.8880 - val_loss: 2.8609 - val_accuracy: 0.9014\n",
            "Epoch 20/20\n",
            "272/272 [==============================] - 1s 5ms/step - loss: 2.8500 - accuracy: 0.8963 - val_loss: 2.8597 - val_accuracy: 0.9063\n"
          ],
          "name": "stdout"
        }
      ]
    },
    {
      "cell_type": "markdown",
      "metadata": {
        "id": "EuBfciLciWpR",
        "pycharm": {
          "name": "#%% md\n"
        }
      },
      "source": [
        "## Test the model"
      ]
    },
    {
      "cell_type": "code",
      "metadata": {
        "id": "wU9eZbjfdoFr",
        "outputId": "14c108f7-93e1-44bf-cdd4-72b5526e6373",
        "colab": {
          "base_uri": "https://localhost:8080/",
          "height": 69
        }
      },
      "source": [
        "test_loss, test_acc = model.evaluate(X_test_gray,  y_test)\n",
        "\n",
        "print('\\nTest accuracy:', test_acc)"
      ],
      "execution_count": 19,
      "outputs": [
        {
          "output_type": "stream",
          "text": [
            "395/395 [==============================] - 1s 2ms/step - loss: 2.8829 - accuracy: 0.8829\n",
            "\n",
            "Test accuracy: 0.8828978538513184\n"
          ],
          "name": "stdout"
        }
      ]
    },
    {
      "cell_type": "code",
      "metadata": {
        "id": "xTtZhZ06ecCr"
      },
      "source": [
        ""
      ],
      "execution_count": null,
      "outputs": []
    }
  ]
}